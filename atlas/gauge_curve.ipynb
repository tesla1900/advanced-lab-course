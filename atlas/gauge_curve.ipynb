{
 "cells": [
  {
   "cell_type": "code",
   "execution_count": 75,
   "metadata": {},
   "outputs": [],
   "source": [
    "import numpy as np\n",
    "import matplotlib.pyplot as plt\n",
    "import os \n",
    "from lmfit import Parameters, minimize, fit_report\n",
    "\n",
    "output_dir = os.getcwd()"
   ]
  },
  {
   "cell_type": "code",
   "execution_count": 123,
   "metadata": {},
   "outputs": [
    {
     "name": "stdout",
     "output_type": "stream",
     "text": [
      "13\n"
     ]
    }
   ],
   "source": [
    "# to contain all the data into one place\n",
    "# only need to run if we have new data\n",
    "import pickle\n",
    "\n",
    "# data_dict = {\n",
    "#     \"etiso8_njet0_qcd37_2665\":[\n",
    "#         \"39.4784 +/- 0.0423736 GeV\", \"41.2451 +/- 0.0444014 GeV\", \n",
    "#         \"41.8106 +/- 0.0405521 GeV\", \"42.3605 +/- 0.0459407 GeV\", \n",
    "#         \"42.9221 +/- 0.0473117 GeV\", \" 43.5305 +/- 0.0404663 GeV\", \n",
    "#         \"45.2309 +/- 0.0425886 GeV\", \"42.887 +/- 0.050338 GeV\",\n",
    "#         \"48.4963 +/- 0.0441471 GeV\"\n",
    "#     ],   # base case\n",
    "#     \"ptw10_qcd37_2665\":[\n",
    "#         \"39.2923 +/- 0.0657924 GeV\", \"40.8123 +/- 0.0700304 GeV\", \n",
    "#         \"41.35 +/- 0.0666937 GeV\", \"41.9307 +/- 0.0749529 GeV\",\n",
    "#         \"42.5712 +/- 0.0852238 GeV\", \"43.1116 +/- 0.0712354 GeV\",\n",
    "#         \"44.5412 +/- 0.103191 GeV\"\n",
    "#     ],\n",
    "#     \"ptw10_njet0_qcd37_2665\":[\n",
    "#         \"39.3337 +/- 0.0703365 GeV\", \"40.8565 +/- 0.074536 GeV\",\n",
    "#         \"41.3975 +/- 0.0712035 GeV\", \"41.9311 +/- 0.0781514 GeV\",\n",
    "#         \"42.5656 +/- 0.0894602 GeV\", \"43.1147 +/- 0.0762419 GeV\",\n",
    "#         \"44.5398 +/- 0.103191 GeV\" \n",
    "#     ],\n",
    "#     \"etiso8_njet0_qcd40_2665\":[\n",
    "#         \"39.92 +/- 0.0492164 GeV\", \"41.5872 +/- 0.0467629 GeV\",\n",
    "#         \"42.1024 +/- 0.0420073 GeV\", \"42.656 +/- 0.0448077 GeV\",\n",
    "#         \"43.2608 +/- 0.0474972 GeV\", \"43.6906 +/- 0.0403156 GeV\",\n",
    "#         \"45.3482 +/- 0.044938 GeV\"\n",
    "#     ],\n",
    "#     \"etiso8_njet0_qcd35_2665\":[\n",
    "#         \"40.1088 +/- 0.0464933 GeV\", \"41.6698 +/- 0.0437758 GeV\",\n",
    "#         \"42.1306 +/- 0.0419964 GeV\", \"42.7606 +/- 0.0471991 GeV\",\n",
    "#         \"43.3321 +/- 0.049122 GeV\", \"43.719 +/- 0.0410752 GeV\",\n",
    "#         \"45.3724 +/- 0.046614 GeV\"\n",
    "#     ],\n",
    "#     \"nocut_qcd37_2665\":[\n",
    "#         \"37.4208 +/- 0.381072 GeV\", \"38.8992 +/- 0.701751 GeV\", \n",
    "#         \"39.3664 +/- 0.192098 GeV\", \"39.6832 +/- 0.138895 GeV\", \n",
    "#         \"40.1344 +/- 0.137097 GeV\", \" 40.9216 +/- 0.226304 GeV\", \n",
    "#         \"42.16 +/- 0.24065 GeV\"\n",
    "#     ],\n",
    "#     \"etiso8_njet0_qcd37_2570\":[\n",
    "#         \" 39.9915 +/- 0.0775079 GeV\", \"41.6671 +/- 0.0573744 GeV\", \n",
    "#         \"42.2112 +/- 0.0543119 GeV\", \"42.836 +/- 0.0603719 GeV\", \n",
    "#         \"43.3873 +/- 0.0573079 GeV\", \" 43.7433 +/- 0.0464772 GeV\", \n",
    "#         \"45.3437 +/- 0.0482791 GeV\"\n",
    "#     ],\n",
    "#     \"etiso8_njet0_qcd37_3050\":[\n",
    "#         \"40.1927 +/- 0.0520898 GeV\", \"41.7781 +/- 0.0593492 GeV\", \n",
    "#         \"42.2529 +/- 0.0559498 GeV\", \"42.8529 +/- 0.0582604 GeV\", \n",
    "#         \"43.4729 +/- 0.0673315 GeV\", \" 43.7813 +/- 0.0601883 GeV\", \n",
    "#         \"45.4935 +/- 0.0999553 GeV\"\n",
    "#     ],\n",
    "#     \"etiso8_njet0_ptw50_qcd37_2650\":[\n",
    "#         \"39.9944 +/- 0.0457059 GeV\", \"41.7855 +/- 0.0536802 GeV\", \n",
    "#         \"42.2607 +/- 0.0548636 GeV\", \"42.8678 +/- 0.0592277 GeV\", \n",
    "#         \"43.9228 +/- 0.0586297 GeV\", \"44.4327 +/- 0.0408318 GeV\", \n",
    "#         \"46.0429 +/- 0.0355183 GeV\"\n",
    "#     ],\n",
    "#     \"etiso8_njet0_qcd30_2655\":[\n",
    "#         \"39.9577 +/- 0.0428959 GeV\", \"41.77 +/- 0.0443935 GeV\", \n",
    "#         \"42.2369 +/- 0.044575 GeV\", \"42.8666 +/- 0.0495315 GeV\", \n",
    "#         \"43.4326 +/- 0.0510593 GeV\", \"43.7898 +/- 0.0446477 GeV\", \n",
    "#         \"45.4315 +/- 0.0522402 GeV\"\n",
    "#     ],\n",
    "#     \"etiso8_njet0_qcd22_2650\":[\n",
    "#         \"40.284 +/- 0.042718 GeV\", \"41.8318 +/- 0.0460794 GeV\", \n",
    "#         \"42.2938 +/- 0.0459279 GeV\", \"42.9151 +/- 0.0489102 GeV\", \n",
    "#         \"43.479 +/- 0.0510642 GeV\", \"43.8544 +/- 0.0465394 GeV\", \n",
    "#         \"45.4996 +/- 0.0573653 GeV\"\n",
    "#     ],\n",
    "#     \"etiso8_njet0_qcd24_2750\":[\n",
    "#         \"40.306 +/- 0.0446334 GeV\", \"41.8595 +/- 0.0544243 GeV\", \n",
    "#         \"42.3483 +/- 0.0590044 GeV\", \"42.948 +/- 0.0660197 GeV\", \n",
    "#         \"43.5366 +/- 0.0715929 GeV\", \"43.8463 +/- 0.0621997 GeV\", \n",
    "#         \"45.5252 +/- 0.195025 GeV\"\n",
    "#     ],\n",
    "#     \"etiso6_njet0_qcd19_2850\":[\n",
    "#         \"40.337 +/- 0.0472627 GeV\", \"41.8706 +/- 0.0519879 GeV\", \n",
    "#         \"42.3569 +/- 0.0557276 GeV\", \"42.9862 +/- 0.0602254 GeV\", \n",
    "#         \"43.5833 +/- 0.0874441 GeV\", \"43.8759 +/- 0.0629052 GeV\", \n",
    "#         \"45.5383 +/- 0.106131 GeV\"\n",
    "#     ],\n",
    "#     \"etiso6_njet0_qcd31_2853\":[\n",
    "#         \"40.2441 +/- 0.0484908 GeV\", \"41.7772 +/- 0.047836 GeV\", \n",
    "#         \"42.256 +/- 0.0454232 GeV\", \"42.8777 +/- 0.0503288 GeV\", \n",
    "#         \"43.4715 +/- 0.0552756 GeV\", \"43.8286 +/- 0.0492738 GeV\", \n",
    "#         \"45.4961 +/- 0.0640505 GeV\"\n",
    "#     ]\n",
    "# }\n",
    "\n",
    "data_dict = {\n",
    "    \"etiso8_njet0_qcd26_2860\":{\n",
    "        \"HW\":[\n",
    "            \"40.2007 +/- 0.0498654 GeV\", \"41.7238 +/- 0.0435543 GeV\", \"42.2018 +/- 0.0394319 GeV\", \n",
    "            \"42.8112 +/- 0.0449951 GeV\", \"43.3732 +/- 0.0488116 GeV\", \"43.7649 +/- 0.0404085 GeV\", \n",
    "            \"45.4105 +/- 0.0461441 GeV\"\n",
    "        ],\n",
    "        \"ATLAS\": \"42.9888 +/- 0.0492722 GeV\",\n",
    "        \"Zee\": \"48.4573 +/- 0.045495 GeV\"\n",
    "    },\n",
    "    \"etiso8_njet0_qcd22_2655\":{\n",
    "        \"HW\":[\n",
    "            \"40.284 +/- 0.042718 GeV\", \"41.8318 +/- 0.0460794 GeV\", \"42.2938 +/- 0.0459279 GeV\", \n",
    "            \"42.9151 +/- 0.0489102 GeV\", \"43.479 +/- 0.0510642 GeV\", \"43.8544 +/- 0.0465394 GeV\", \n",
    "            \"45.4996 +/- 0.0573653 GeV\"\n",
    "        ],\n",
    "        \"ATLAS\": \"43.157 +/- 0.0518855 GeV\",\n",
    "        \"Zee\": \"48.4135 +/- 0.0606542 GeV\"\n",
    "    },\n",
    "    # \"etiso8_njet0_qcd30_2655\":{\n",
    "    #     \"HW\":[\n",
    "    #         \"39.9577 +/- 0.0428959 GeV\", \"41.77 +/- 0.0443935 GeV\", \"42.2369 +/- 0.044575 GeV\", \n",
    "    #         \"42.8666 +/- 0.0495315 GeV\", \"43.4326 +/- 0.0510593 GeV\", \"43.7898 +/- 0.0446477 GeV\", \n",
    "    #         \"45.4315 +/- 0.0522402 GeV\"\n",
    "    #     ],\n",
    "    #     \"ATLAS\": \"43.157 +/- 0.0518855 GeV\",\n",
    "    #     \"Zee\": \"48.4135 +/- 0.0606542 GeV\"\n",
    "    # },\n",
    "    # \"etiso8_njet0_qcd30_2750\":{\n",
    "    #     \"HW\":[\n",
    "    #         \"40.2227 +/- 0.0444227 GeV\", \"41.8286 +/- 0.0519205 GeV\", \"42.3134 +/- 0.054776 GeV\", \n",
    "    #         \"42.9135 +/- 0.0598241 GeV\", \"43.5038 +/- 0.0669128 GeV\", \"43.821 +/- 0.062323 GeV\", \n",
    "    #         \" 45.9251 +/- 0.113174 GeV\"\n",
    "    #     ],\n",
    "    #     \"ATLAS\": \"43.4858 +/- 0.062182 GeV\",\n",
    "    #     \"Zee\": \"48.3284 +/- 0.720359 GeV\"\n",
    "    # },\n",
    "    # \"etiso8_njet0_qcd30_2755\":{\n",
    "    #     \"HW\":[\n",
    "    #         \"40.1768 +/- 0.0431758 GeV\", \"41.765 +/- 0.0454741 GeV\", \"42.2422 +/- 0.0453501 GeV\", \n",
    "    #         \"42.8591 +/- 0.0496516 GeV\", \"43.4333 +/- 0.0486929 GeV\", \"43.8089 +/- 0.0459748 GeV\", \n",
    "    #         \"45.4651 +/- 0.0529568 GeV\"\n",
    "    #     ],\n",
    "    #     \"ATLAS\": \"42.9656 +/- 0.0494186 GeV\",\n",
    "    #     \"Zee\": \"48.4088 +/- 0.0622057 GeV\"\n",
    "    # },\n",
    "    # \"etiso6_njet0_qcd22_2755\":{\n",
    "    #     \"HW\":[\n",
    "    #         \" 40.2886 +/- 0.0440091 GeV\", \"41.8166 +/- 0.0414182 GeV\", \" 42.3025 +/- 0.0471304 GeV\", \n",
    "    #         \"42.9036 +/- 0.0481456 GeV\", \"43.4819 +/- 0.0531882 GeV\", \"43.8727 +/- 0.0474876 GeV\", \n",
    "    #         \"45.5173 +/- 0.0576681 GeV\"\n",
    "    #     ],\n",
    "    #     \"ATLAS\": \"43.1308 +/- 0.0494087 GeV\",\n",
    "    #     \"Zee\": \"48.4009 +/- 0.0595896 GeV\"\n",
    "    # },\n",
    "    # \"etiso8_njet0_qcd37_2665\":{\n",
    "    #     \"HW\":[\n",
    "    #         \"39.4784 +/- 0.0423736 GeV\", \"41.2451 +/- 0.0444014 GeV\", \"41.8106 +/- 0.0405521 GeV\", \n",
    "    #         \"42.3605 +/- 0.0459407 GeV\", \"42.9221 +/- 0.0473117 GeV\", \"43.5305 +/- 0.0404663 GeV\", \n",
    "    #         \"45.2309 +/- 0.0425886 GeV\"\n",
    "    #     ],\n",
    "    #     \"ATLAS\": \"42.887 +/- 0.050338 GeV\",\n",
    "    #     \"Zee\": \"48.4963 +/- 0.0441471 GeV\"\n",
    "    # },\n",
    "    # \"etiso8_njet0_qcd26_2855\":{\n",
    "    #     \"HW\":[\n",
    "    #         \"40.2538 +/- 0.0474027 GeV\", \"41.8065 +/- 0.0488327 GeV\", \"42.2462 +/- 0.0437766 GeV\", \n",
    "    #         \"42.8656 +/- 0.0486644 GeV\", \"43.448 +/- 0.0521051 GeV\", \"43.8116 +/- 0.0464829 GeV\", \n",
    "    #         \"45.4819 +/- 0.0555974 GeV\"\n",
    "    #     ],\n",
    "    #     \"ATLAS\": \"43.0714 +/- 0.0507861 GeV\",\n",
    "    #     \"Zee\": \"48.4047 +/- 0.0590657 GeV\"\n",
    "    # },\n",
    "    # \"etiso8_njet0_qcd25_2852\":{\n",
    "    #     \"HW\":[\n",
    "    #         \"40.2738 +/- 0.0479518 GeV\", \"41.819 +/- 0.0470795 GeV\", \"42.2929 +/- 0.0486191 GeV\", \n",
    "    #         \"42.9113 +/- 0.0529581 GeV\", \"43.4982 +/- 0.0585961 GeV\", \"43.8474 +/- 0.0506017 GeV\", \n",
    "    #         \"45.5028 +/- 0.0699255 GeV\"\n",
    "    #     ],\n",
    "    #     \"ATLAS\": \"43.1875 +/- 0.0534384 GeV\",\n",
    "    #     \"Zee\": \"48.4015 +/- 0.150561 GeV\"\n",
    "    # },\n",
    "    # \"etiso8_njet0_qcd28_2760\":{\n",
    "    #     \"HW\":[\n",
    "    #         \"40.1955 +/- 0.0451855 GeV\", \"41.7309 +/- 0.0417418 GeV\", \"42.1966 +/- 0.0425012 GeV\", \n",
    "    #         \"42.7989 +/- 0.0448937 GeV\", \"43.3691 +/- 0.0473623 GeV\", \"43.776 +/- 0.04135 GeV\", \n",
    "    #         \"45.4117 +/- 0.0440605 GeV\"\n",
    "    #     ],\n",
    "    #     \"ATLAS\": \"42.8598 +/- 0.0468398 GeV\",\n",
    "    #     \"Zee\": \"48.4582 +/- 0.0453699 GeV\"\n",
    "    # },\n",
    "    # \"etiso8_njet0_qcd27_2755\":{\n",
    "    #     \"HW\":[\n",
    "    #         \"40.2448 +/- 0.0415069 GeV\", \"41.7892 +/- 0.0482515 GeV\", \"42.2641 +/- 0.045331 GeV\", \n",
    "    #         \"42.8688 +/- 0.0471151 GeV\", \"43.4444 +/- 0.047502 GeV\", \"43.8243 +/- 0.0455698 GeV\", \n",
    "    #         \"45.4788 +/- 0.0560793 GeV\"\n",
    "    #     ],\n",
    "    #     \"ATLAS\": \"42.9656 +/- 0.0494186 GeV\",\n",
    "    #     \"Zee\": \"48.4088 +/- 0.0622057 GeV\"\n",
    "    # },\n",
    "    # \"etiso10_njet0_ptw20_qcd26_2755\":{\n",
    "    #     \"HW\":[\n",
    "    #         \"39.7182 +/- 0.0462655 GeV\", \"41.291 +/- 0.0512049 GeV\", \"41.7892 +/- 0.0569627 GeV\", \n",
    "    #         \"42.329 +/- 0.0661604 GeV\", \"42.955 +/- 0.0707839 GeV\", \"43.3461 +/- 0.0571279 GeV\", \n",
    "    #         \"44.9238 +/- 0.0652173 GeV\"\n",
    "    #     ],\n",
    "    #     \"ATLAS\": \"42.7778 +/- 0.0715196 GeV\",\n",
    "    #     \"Zee\": \"47.9822 +/- 0.0747854 GeV\"\n",
    "    # },\n",
    "    # \"etiso8_njet0_qcd20_2755\":{\n",
    "    #     \"HW\":[\n",
    "    #         \"40.2925 +/- 0.0419707 GeV\", \"41.8249 +/- 0.0438736 GeV\", \"42.304 +/- 0.0459839 GeV\", \n",
    "    #         \"42.9096 +/- 0.049806 GeV\", \"43.4807 +/- 0.0543504 GeV\", \"43.8655 +/- 0.0462479 GeV\", \n",
    "    #         \"45.509 +/- 0.0568175 GeV\"\n",
    "    #     ],\n",
    "    #     \"ATLAS\": \"42.9656 +/- 0.0494186 GeV\",\n",
    "    #     \"Zee\": \"48.4088 +/- 0.0622057 GeV\"\n",
    "    # }          \n",
    "}\n",
    "\n",
    "print(len(data_dict.keys()))\n",
    "\n",
    "with open(os.path.join(output_dir, \"gauge_curve_data.pkl\"), \"wb\") as f:\n",
    "    pickle.dump(data_dict, f)\n"
   ]
  },
  {
   "cell_type": "code",
   "execution_count": 124,
   "metadata": {},
   "outputs": [],
   "source": [
    "def convert_errstr_array(errstr_list):\n",
    "    '''\n",
    "    Converts list of strings of values with errors to two numpy arrays, \n",
    "    One with values and other with errors.\n",
    "    '''\n",
    "    if type(errstr_list) == list:\n",
    "        val_arr = np.zeros(len(errstr_list))\n",
    "        errval_arr = np.zeros(len(errstr_list))\n",
    "\n",
    "        for i, errstr in enumerate(errstr_list):\n",
    "            val, err_GeV = errstr.split(\"+/-\")\n",
    "            err_val = float(err_GeV[:-4])\n",
    "            val = float(val)\n",
    "\n",
    "            val_arr[i] = val\n",
    "            errval_arr[i] = err_val\n",
    "\n",
    "        return val_arr, errval_arr\n",
    "        \n",
    "    elif type(errstr_list) == str:\n",
    "        errstr = errstr_list\n",
    "        val, err_GeV = errstr.split(\"+/-\")\n",
    "        err_val = float(err_GeV[:-4])\n",
    "        val = float(val)\n",
    "\n",
    "        return val, err_val\n",
    "\n",
    "def residual(params, x, data, unc):\n",
    "    '''Residual function we want to minimize'''\n",
    "    slope = params[\"a\"]\n",
    "    intercept = params[\"b\"]\n",
    "\n",
    "    model = slope * x + intercept  # simple linear curve\n",
    "\n",
    "    return (model - data) / unc\n",
    "\n",
    "# def get_params(val_arr, errval_arr, mw_arr, atlas_halfmax, show=True):\n",
    "#     '''Get the parameters from the linear fit'''\n",
    "#     # perform linear fit\n",
    "#     (a, b), cov = np.polyfit(mw_arr, val_arr, deg=1, cov=True, w = 1. / errval_arr)\n",
    "\n",
    "#     if show:\n",
    "#         plt.plot(mw_arr, a * mw_arr + b, label=\"Fit\")\n",
    "#         plt.errorbar(mw_arr, val_arr, yerr=errval_arr, label=\"data\", marker=\"o\", ls=\"\", ms=5.0)\n",
    "\n",
    "#     # get the mass of the W boson\n",
    "#     mw_data = (atlas_halfmax - b) / a\n",
    "\n",
    "#     return a, b, cov, mw_data"
   ]
  },
  {
   "cell_type": "code",
   "execution_count": 126,
   "metadata": {},
   "outputs": [
    {
     "name": "stdout",
     "output_type": "stream",
     "text": [
      "\n",
      " Current Configuration: etiso8_njet0_qcd26_2860\n",
      "a = 0.5218 +- 0.0001, b = 1.0348 +- 0.3467\n",
      "Mass of W boson from ATLAS data: 80.406 +- 1.450 GeV\n",
      "W boson mass is 0.018 sigma away from accepted value\n",
      "Mass of Z boson: 90.887 +- 1.561 GeV\n",
      "Z boson mass is 0.193 sigma away from accepted value\n",
      "\n",
      " Current Configuration: etiso8_njet0_qcd22_2655\n",
      "a = 0.5209 +- 0.0001, b = 1.2060 +- 0.3537\n",
      "Mass of W boson from ATLAS data: 80.539 +- 1.471 GeV\n",
      "W boson mass is 0.072 sigma away from accepted value\n",
      "Mass of Z boson: 90.630 +- 1.579 GeV\n",
      "Z boson mass is 0.353 sigma away from accepted value\n",
      "\n",
      " Current Configuration: etiso8_njet0_qcd30_2655\n",
      "a = 0.5453 +- 0.0002, b = -0.8433 +- 0.9808\n",
      "Mass of W boson from ATLAS data: 80.692 +- 1.851 GeV\n",
      "W boson mass is 0.140 sigma away from accepted value\n",
      "Mass of Z boson: 90.332 +- 2.055 GeV\n",
      "Z boson mass is 0.416 sigma away from accepted value\n",
      "\n",
      " Current Configuration: etiso8_njet0_qcd30_2750\n",
      "a = 0.5409 +- 0.0002, b = -0.3684 +- 1.4149\n",
      "Mass of W boson from ATLAS data: 81.080 +- 1.756 GeV\n",
      "W boson mass is 0.368 sigma away from accepted value\n",
      "Mass of Z boson: 90.033 +- 2.045 GeV\n",
      "Z boson mass is 0.565 sigma away from accepted value\n",
      "\n",
      " Current Configuration: etiso8_njet0_qcd30_2755\n",
      "a = 0.5285 +- 0.0001, b = 0.5422 +- 0.3342\n",
      "Mass of W boson from ATLAS data: 80.277 +- 1.414 GeV\n",
      "W boson mass is 0.110 sigma away from accepted value\n",
      "Mass of Z boson: 90.577 +- 1.519 GeV\n",
      "Z boson mass is 0.402 sigma away from accepted value\n",
      "\n",
      " Current Configuration: etiso6_njet0_qcd22_2755\n",
      "a = 0.5229 +- 0.0000, b = 1.0479 +- 0.2903\n",
      "Mass of W boson from ATLAS data: 80.481 +- 1.353 GeV\n",
      "W boson mass is 0.035 sigma away from accepted value\n",
      "Mass of Z boson: 90.559 +- 1.448 GeV\n",
      "Z boson mass is 0.434 sigma away from accepted value\n",
      "\n",
      " Current Configuration: etiso8_njet0_qcd37_2665\n",
      "a = 0.5742 +- 0.0000, b = -3.5707 +- 0.0406\n",
      "Mass of W boson from ATLAS data: 80.902 +- 0.486 GeV\n",
      "W boson mass is 0.964 sigma away from accepted value\n",
      "Mass of Z boson: 90.670 +- 0.516 GeV\n",
      "Z boson mass is 1.003 sigma away from accepted value\n",
      "\n",
      " Current Configuration: etiso8_njet0_qcd26_2855\n",
      "a = 0.5216 +- 0.0001, b = 1.1087 +- 0.4742\n",
      "Mass of W boson from ATLAS data: 80.446 +- 1.635 GeV\n",
      "W boson mass is 0.008 sigma away from accepted value\n",
      "Mass of Z boson: 90.670 +- 1.767 GeV\n",
      "Z boson mass is 0.293 sigma away from accepted value\n",
      "\n",
      " Current Configuration: etiso8_njet0_qcd25_2852\n",
      "a = 0.5222 +- 0.0001, b = 1.0952 +- 0.4661\n",
      "Mass of W boson from ATLAS data: 80.605 +- 1.630 GeV\n",
      "W boson mass is 0.105 sigma away from accepted value\n",
      "Mass of Z boson: 90.589 +- 1.757 GeV\n",
      "Z boson mass is 0.340 sigma away from accepted value\n",
      "\n",
      " Current Configuration: etiso8_njet0_qcd28_2760\n",
      "a = 0.5222 +- 0.0000, b = 1.0010 +- 0.2581\n",
      "Mass of W boson from ATLAS data: 80.154 +- 1.281 GeV\n",
      "W boson mass is 0.218 sigma away from accepted value\n",
      "Mass of Z boson: 90.874 +- 1.376 GeV\n",
      "Z boson mass is 0.228 sigma away from accepted value\n",
      "\n",
      " Current Configuration: etiso8_njet0_qcd27_2755\n",
      "a = 0.5227 +- 0.0001, b = 1.0302 +- 0.3292\n",
      "Mass of W boson from ATLAS data: 80.234 +- 1.421 GeV\n",
      "W boson mass is 0.140 sigma away from accepted value\n",
      "Mass of Z boson: 90.649 +- 1.528 GeV\n",
      "Z boson mass is 0.353 sigma away from accepted value\n",
      "\n",
      " Current Configuration: etiso10_njet0_ptw20_qcd26_2755\n",
      "a = 0.5216 +- 0.0000, b = 0.6004 +- 0.1605\n",
      "Mass of W boson from ATLAS data: 80.856 +- 1.043 GeV\n",
      "W boson mass is 0.406 sigma away from accepted value\n",
      "Mass of Z boson: 90.833 +- 1.112 GeV\n",
      "Z boson mass is 0.319 sigma away from accepted value\n",
      "\n",
      " Current Configuration: etiso8_njet0_qcd20_2755\n",
      "a = 0.5210 +- 0.0000, b = 1.1996 +- 0.2862\n",
      "Mass of W boson from ATLAS data: 80.166 +- 1.346 GeV\n",
      "W boson mass is 0.198 sigma away from accepted value\n",
      "Mass of Z boson: 90.614 +- 1.446 GeV\n",
      "Z boson mass is 0.397 sigma away from accepted value\n"
     ]
    },
    {
     "data": {
      "image/png": "[encoded data removed]",
      "text/plain": [
       "<Figure size 576x432 with 1 Axes>"
      ]
     },
     "metadata": {
      "needs_background": "light"
     },
     "output_type": "display_data"
    }
   ],
   "source": [
    "# the main code\n",
    "\n",
    "# # halfwidth obtained when running ATLAS data with the given cuts\n",
    "# atlas_halfwidth_arr = [\n",
    "#     0., 0., 0., 0., \"41.2065 +/- 0.202642 GeV\",\n",
    "#     \"40.925 +/- 0.931269 GeV\", \"40.925 +/- 0.931269 GeV\",\n",
    "#     \"43.183 +/- 0.0578452 GeV\"\n",
    "# ]\n",
    "# atlas_halfwidth_arr = [\n",
    "#     \"42.887 +/- 0.050338 GeV\", \"41.1398 +/- 0.280774 GeV\",\n",
    "#      \"42.6352 +/- 0.0931504 GeV\", \"42.887 +/- 0.050338 GeV\",\n",
    "#     \"42.887 +/- 0.050338 GeV\", \"41.2065 +/- 0.202642 GeV\",\n",
    "#     \"40.925 +/- 0.931269 GeV\", \"40.925 +/- 0.931269 GeV\",\n",
    "#     \"43.183 +/- 0.0578452 GeV\", \"43.157 +/- 0.0518855 GeV\",\n",
    "#     \"43.157 +/- 0.0518855 GeV\", \"43.157 +/- 0.0518855 GeV\",\n",
    "#     \"43.157 +/- 0.0518855 GeV\", \"43.2131 +/- 0.0633281 GeV\",\n",
    "#    \"43.1787 +/- 0.0543769 GeV\"\n",
    "# ]   \n",
    "# print(len(atlas_halfwidth_arr))\n",
    "\n",
    "# atlas_zboson_arr = [\n",
    "#     \"48.4963 +/- 0.0441471 GeV\", \"48.8135 +/- 0.0606542 GeV\", \n",
    "#     \"48.8135 +/- 0.0606542 GeV\", \"48.8135 +/- 0.0606542 GeV\", \n",
    "#     \"48.8135 +/- 0.0606542 GeV\", \"48.8135 +/- 0.0606542 GeV\", \n",
    "#     \"48.8135 +/- 0.0606542 GeV\", \"48.8135 +/- 0.0606542 GeV\", \n",
    "#     \"48.8135 +/- 0.0606542 GeV\", \"48.4135 +/- 0.0606542 GeV\", \n",
    "#     \"48.4135 +/- 0.0606542 GeV\", \"48.8135 +/- 0.0606542 GeV\", \n",
    "#     \"48.8135 +/- 0.0606542 GeV\", \"48.329 +/- 0.107969 GeV\",\n",
    "#     \"48.3908 +/- 0.100827 GeV\"\n",
    "# ]\n",
    "\n",
    "# atlas_halfwidth_arr = [\n",
    "#     \"43.2131 +/- 0.0633281 GeV\", \"43.1787 +/- 0.0543769 GeV\"\n",
    "# ]\n",
    "\n",
    "# atlas_zboson_arr = [\n",
    "#     \"48.329 +/- 0.107969 GeV\", \"48.3908 +/- 0.100827 GeV\"\n",
    "# ]\n",
    "\n",
    "# W boson masses\n",
    "mW_arr = np.array([\n",
    "    75, 78, 79, 80, 81, 82, 85\n",
    "])\n",
    "\n",
    "# create parameter object\n",
    "params = Parameters()\n",
    "\n",
    "# choose initial guess as from past reports\n",
    "params.add(\"a\", value=0.5)\n",
    "params.add(\"b\", value=1.3)\n",
    "\n",
    "\n",
    "# read out data\n",
    "with open(os.path.join(output_dir, \"gauge_curve_data.pkl\"), \"rb\") as f:\n",
    "    data_dict = pickle.load(f)\n",
    "\n",
    "# print(data_dict.keys())\n",
    "\n",
    "plot = True\n",
    "\n",
    "atlas_mw_arr = np.zeros(len(data_dict.keys()))\n",
    "atlas_mw_err_arr = np.zeros_like(atlas_mw_arr)\n",
    "\n",
    "# get parameters for each given set and cut\n",
    "for i, (config, datas) in enumerate(data_dict.items()):\n",
    "    print(\"\\n Current Configuration: {0}\".format(config))\n",
    "\n",
    "    hws_str = datas[\"HW\"]\n",
    "\n",
    "    hw, hw_err = convert_errstr_array(hws_str)\n",
    "\n",
    "    # perform linear fit\n",
    "    out = minimize(residual, params, args=(mW_arr, hw, hw_err))\n",
    "\n",
    "    # get parameter values and errors\n",
    "    a, a_err = out.params[\"a\"].value, out.covar[0][0]\n",
    "    b, b_err = out.params[\"b\"].value, out.covar[1][1]\n",
    "\n",
    "    print(\"a = {0:.4f} +- {1:.4f}, b = {2:.4f} +- {3:.4f}\".format(a, a_err, b, b_err))\n",
    "\n",
    "    # also get correlation coefficients\n",
    "    # covar matrix is symmetrix, so covar_10 = covar_01\n",
    "    corr_coeff = out.covar[1][0]\n",
    "\n",
    "    # print out full fit report if need be\n",
    "    \n",
    "\n",
    "    # plot data with fit\n",
    "\n",
    "    if i == len(atlas_mw_arr)-1:\n",
    "        # print(fit_report(out))\n",
    "        fig, ax = plt.subplots(figsize=(8,6), tight_layout=True)\n",
    "\n",
    "        xfit = np.linspace(mW_arr[0], mW_arr[-1], 500)\n",
    "        yfit = a * xfit + b\n",
    "        ax.plot(xfit, yfit, label=\"Fit\", color=\"k\")\n",
    "        ax.errorbar(mW_arr, hw, yerr=hw_err, label=\"Data\", color=\"b\", marker=\"o\", ls=\"\", ms=5.0, capsize=2.0)\n",
    "\n",
    "        ax.set_xlabel(\"W Boson Mass / GeV\", fontsize=12)\n",
    "        ax.set_ylabel(\"Half-Width of Distribution / GeV\", fontsize=12)\n",
    "        ax.set_title(\"Gauge Curve of Half-Maximum and W boson Mass\", fontsize=14)\n",
    "        ax.tick_params(axis='both', which='major', labelsize=12)\n",
    "        ax.tick_params(axis='both', which='minor', labelsize=12)\n",
    "        ax.grid()\n",
    "        ax.legend(prop={\"size\":12})\n",
    "\n",
    "        plt.savefig(\"report/figures/gauge_curve.pdf\", dpi=400)\n",
    "\n",
    "        # print(out.covar)\n",
    "\n",
    "\n",
    "    \n",
    "    # also convert atlas data from str to float\n",
    "    # print(atlas_halfwidth_arr[i])\n",
    "    atlas_hw, atlas_hw_err = convert_errstr_array(datas[\"ATLAS\"])\n",
    "\n",
    "    # get the mass of W boson from obtained halfwidth\n",
    "    atlas_mW = (atlas_hw - b) / a   # from y = mx +b  => x = (y - b) / a\n",
    "    hb_err = np.sqrt(atlas_hw_err**2. + b_err**2.)\n",
    "\n",
    "    # take into account correlation between a and b\n",
    "    atlas_mW_err = atlas_mW * np.sqrt( np.abs((a_err / a)**2. + (hb_err / (atlas_hw - b))**2. + (2 * corr_coeff / (a * (atlas_hw - b)))) )\n",
    "    print(\"Mass of W boson from ATLAS data: {0:.3f} +- {1:.3f} GeV\".format(atlas_mW, atlas_mW_err))\n",
    "\n",
    "    # append the results\n",
    "    atlas_mw_arr[i] = atlas_mW\n",
    "    atlas_mw_err_arr[i] = atlas_mW_err\n",
    "\n",
    "    # compare with accepted value of mW\n",
    "    mW_accepted = 80.433 \n",
    "\n",
    "    mW_tval = np.abs(atlas_mW - mW_accepted) / (atlas_mW_err)\n",
    "    print(\"W boson mass is {0:.3f} sigma away from accepted value\".format(mW_tval))\n",
    "\n",
    "    # evaluate z boson mass as well\n",
    "\n",
    "    mZ_hw, mz_hw_err = convert_errstr_array(datas[\"Zee\"])\n",
    "\n",
    "    mZ = (mZ_hw - b) / a\n",
    "    mZ_err = mZ * np.sqrt( np.abs((a_err / a)**2. + (hb_err / (mZ_hw - b))**2. + (2 * corr_coeff / (a * (mZ_hw - b)))) )\n",
    "\n",
    "    print(\"Mass of Z boson: {0:.3f} +- {1:.3f} GeV\".format(mZ, mZ_err))\n",
    "\n",
    "    # compare with actual value\n",
    "    mZ_true = 91.1876\n",
    "    mZ_tval = np.abs(mZ - mZ_true) / (mZ_err)\n",
    "    print(\"Z boson mass is {0:.3f} sigma away from accepted value\".format(mZ_tval))\n"
   ]
  },
  {
   "cell_type": "code",
   "execution_count": 27,
   "metadata": {},
   "outputs": [
    {
     "name": "stdout",
     "output_type": "stream",
     "text": [
      "Systematic error from calibration: 0.30966251508938825 GeV\n"
     ]
    }
   ],
   "source": [
    "# check calibration using Z boson mass\n",
    "# systematic error due to calibration\n",
    "\n",
    "mZ_data = 91.53801863004914\n",
    "mZ_true = 91.1876\n",
    "delta_mZ = mZ_data - mZ_true\n",
    "\n",
    "# from relative uncertainty dW / W = dZ / Z\n",
    "mW_data = 80.58185022013751\n",
    "mW_err_calib = mW_data * delta_mZ / mZ_true\n",
    "print(\"Systematic error from calibration: {0} GeV\".format(mW_err_calib))"
   ]
  },
  {
   "cell_type": "code",
   "execution_count": null,
   "metadata": {},
   "outputs": [],
   "source": [
    "# # ptw < 10 only, qcd=0.37\n",
    "# # half_max =np.array([\n",
    "# #     39.2923, 40.8123, 41.35, 41.9307, 42.5712,  43.1116, 44.5412\n",
    "# # ])\n",
    "# # half_max_err =np.array([\n",
    "# #     0.0657924, 0.0700304, 0.0666937, 0.0749529, 0.0852238, 0.0712354, 0.103191\n",
    "# # ])\n",
    "\n",
    "# # ptw < 10, njet == 0, qcd=0.37\n",
    "# # half_max =np.array([\n",
    "# #     39.3337, 40.8565, 41.3975,  41.9311, 42.5656,  43.1147, 44.5398\n",
    "# # ])\n",
    "\n",
    "# # half_max_err =np.array([\n",
    "# #      0.0703365, 0.074536, 0.0712035, 0.0781514, 0.0894602, 0.0762419, 0.0924828\n",
    "# # ])\n",
    "\n",
    "# # el_etiso < 8, njet == 0, qcd=0.37\n",
    "# # half_max =np.array([\n",
    "# #      40.0512, 41.6582, 42.131,  42.7492, 43.3221,  43.7077, 45.3604\n",
    "# # ])\n",
    "\n",
    "# # half_max_err =np.array([\n",
    "# #      0.0511893, 0.0460512, 0.0433276, 0.0485094, 0.0484778, 0.0429815, 0.0472126\n",
    "# # ])\n",
    "\n",
    "# # el_etiso < 8, njet == 0, qcd=0.4\n",
    "# # half_max =np.array([\n",
    "# #      39.92, 41.5872, 42.1024,  42.656, 43.2608,  43.6906, 45.3482\n",
    "# # ])\n",
    "\n",
    "# # half_max_err =np.array([\n",
    "# #      0.0492164, 0.0467629, 0.0420073, 0.0448077, 0.0474972, 0.0403156, 0.0449381\n",
    "# # ])\n",
    "# # data obtained from half-max analysis\n",
    "\n",
    "# # # no cuts, qcd=0.37\n",
    "# # errstr_list = [\n",
    "# #      \"37.4208 +/- 0.381072 GeV\", \"38.8992 +/- 0.701751 GeV\", \"39.3664 +/- 0.192098 GeV\", \"39.6832 +/- 0.138895 GeV\", \n",
    "# #      \"40.1344 +/- 0.137097 GeV\", \" 40.9216 +/- 0.226304 GeV\", \"42.16 +/- 0.24065 GeV\"\n",
    "# # ]\n",
    "\n",
    "# # atlas_hw = 41.1603\n",
    "\n",
    "# # el_etiso < 8, njet == 0, qcd=0.37, region 25 - 70\n",
    "# # errstr_list = [\n",
    "# #      \" 39.9915 +/- 0.0775079 GeV\", \"41.6671 +/- 0.0573744 GeV\", \"42.2112 +/- 0.0543119 GeV\",\n",
    "# #       \"42.836 +/- 0.0603719 GeV\", \"43.3873 +/- 0.0573079 GeV\", \" 43.7433 +/- 0.0464772 GeV\", \n",
    "# #      \"45.3437 +/- 0.0482791 GeV\"\n",
    "# # ]\n",
    "\n",
    "# # atlas_hw = 40.925016\n",
    "\n",
    "# # # el_etiso < 8, njet == 0, qcd=0.37, region 30 - 50\n",
    "# # errstr_list = [\n",
    "# #      \"40.1927 +/- 0.0520898 GeV\", \"41.7781 +/- 0.0593492 GeV\", \"42.2529 +/- 0.0559498 GeV\",\n",
    "# #       \"42.8529 +/- 0.0582604 GeV\", \"43.4729 +/- 0.0673315 GeV\", \" 43.7813 +/- 0.0601883 GeV\", \n",
    "# #      \"45.4935 +/- 0.0999553 GeV\"\n",
    "# # ]\n",
    "\n",
    "# atlas_hw = 43.183037\n",
    "\n",
    "# # el_etiso < 8, njet == 0, qcd=0.37, region 26-65\n",
    "# # errstr_list = [\n",
    "# #      \"39.4784 +/- 0.0423736 GeV\", \"41.2451 +/- 0.0444014 GeV\", \"41.8106 +/- 0.0405521 GeV\",\n",
    "# #       \"42.3605 +/- 0.0459407 GeV\", \"42.9221 +/- 0.0473117 GeV\", \" 43.5305 +/- 0.0404663 GeV\", \n",
    "# #      \"45.2309 +/- 0.0425886 GeV\"\n",
    "# # ]\n",
    "\n",
    "# # atlas_hw = 42.887000\n",
    "\n",
    "# mw =np.array([\n",
    "#     75, 78, 79, 80, 81, 82, 85\n",
    "# ])\n"
   ]
  },
  {
   "cell_type": "code",
   "execution_count": null,
   "metadata": {},
   "outputs": [],
   "source": []
  },
  {
   "cell_type": "code",
   "execution_count": 83,
   "metadata": {},
   "outputs": [],
   "source": []
  },
  {
   "cell_type": "code",
   "execution_count": 84,
   "metadata": {},
   "outputs": [
    {
     "data": {
      "text/plain": [
       "(0.5266104411046301,\n",
       " 0.6957929828867329,\n",
       " array([[ 1.02802317e-04, -8.14380246e-03],\n",
       "        [-8.14380246e-03,  6.45873361e-01]]),\n",
       " 80.68059556128637)"
      ]
     },
     "execution_count": 84,
     "metadata": {},
     "output_type": "execute_result"
    },
    {
     "data": {
      "image/png": "[encoded data removed]",
      "text/plain": [
       "<Figure size 432x288 with 1 Axes>"
      ]
     },
     "metadata": {
      "needs_background": "light"
     },
     "output_type": "display_data"
    }
   ],
   "source": [
    "half_max, half_max_err = convert_errstr_array(errstr_list)\n",
    "get_params(half_max, half_max_err, mw, atlas_hw)"
   ]
  },
  {
   "cell_type": "code",
   "execution_count": 85,
   "metadata": {},
   "outputs": [
    {
     "data": {
      "text/plain": [
       "80.58185022013751"
      ]
     },
     "execution_count": 85,
     "metadata": {},
     "output_type": "execute_result"
    }
   ],
   "source": [
    "0.5*(80.901748763738 + 80.26195167653701)"
   ]
  },
  {
   "cell_type": "code",
   "execution_count": 67,
   "metadata": {},
   "outputs": [],
   "source": [
    "(a, b), cov = np.polyfit(mw, half_max, deg=1, cov=True, w = 1. / half_max_err)"
   ]
  },
  {
   "cell_type": "code",
   "execution_count": 68,
   "metadata": {},
   "outputs": [
    {
     "data": {
      "text/plain": [
       "<ErrorbarContainer object of 3 artists>"
      ]
     },
     "execution_count": 68,
     "metadata": {},
     "output_type": "execute_result"
    },
    {
     "data": {
      "image/png": "[encoded data removed]",
      "text/plain": [
       "<Figure size 432x288 with 1 Axes>"
      ]
     },
     "metadata": {
      "needs_background": "light"
     },
     "output_type": "display_data"
    }
   ],
   "source": [
    "plt.plot(mw, a * mw + b, label=\"Fit\")\n",
    "plt.errorbar(mw, half_max, yerr=half_max_err, label=\"data\", marker=\"o\", ls=\"\", ms=5.0)"
   ]
  },
  {
   "cell_type": "code",
   "execution_count": 69,
   "metadata": {},
   "outputs": [
    {
     "name": "stdout",
     "output_type": "stream",
     "text": [
      "0.4787593232345003 1.4448534122900802\n"
     ]
    }
   ],
   "source": [
    "print(a,b)"
   ]
  },
  {
   "cell_type": "code",
   "execution_count": 70,
   "metadata": {},
   "outputs": [],
   "source": [
    "# print(a, b)"
   ]
  },
  {
   "cell_type": "code",
   "execution_count": 71,
   "metadata": {},
   "outputs": [
    {
     "name": "stdout",
     "output_type": "stream",
     "text": [
      "[[ 5.43463960e-04 -4.38224226e-02]\n",
      " [-4.38224226e-02  3.53577235e+00]]\n"
     ]
    }
   ],
   "source": [
    "print(cov)"
   ]
  },
  {
   "cell_type": "code",
   "execution_count": 61,
   "metadata": {},
   "outputs": [],
   "source": [
    "# get mass of dataset from half-max obtained from ATLAS data\n",
    "# print((42.86 - b) / a)\n",
    "# this is the one with etiso < 8, njet == 0"
   ]
  },
  {
   "cell_type": "code",
   "execution_count": 62,
   "metadata": {},
   "outputs": [
    {
     "name": "stdout",
     "output_type": "stream",
     "text": [
      "80.26195167653701\n"
     ]
    }
   ],
   "source": [
    "# get mass of dataset from half-max obtained from ATLAS data\n",
    "print(( 42.859800 - b) / a)\n",
    "# one with njet == 0, ptw < 10 (but need to do it again sinec we didnt \n",
    "# use correct ATLAS value)"
   ]
  },
  {
   "cell_type": "code",
   "execution_count": 54,
   "metadata": {},
   "outputs": [
    {
     "data": {
      "text/plain": [
       "0.1005134147543032"
      ]
     },
     "execution_count": 54,
     "metadata": {},
     "output_type": "execute_result"
    }
   ],
   "source": [
    "80.3878878906251 - 80.28737447587079"
   ]
  },
  {
   "cell_type": "markdown",
   "metadata": {},
   "source": []
  },
  {
   "cell_type": "code",
   "execution_count": 43,
   "metadata": {},
   "outputs": [
    {
     "name": "stdout",
     "output_type": "stream",
     "text": [
      "91.53801863004914\n"
     ]
    }
   ],
   "source": [
    "print((   48.824768 - b) / a)"
   ]
  },
  {
   "cell_type": "code",
   "execution_count": 86,
   "metadata": {},
   "outputs": [
    {
     "name": "stdout",
     "output_type": "stream",
     "text": [
      "0.30966251508938825\n"
     ]
    }
   ],
   "source": [
    "\n"
   ]
  },
  {
   "cell_type": "code",
   "execution_count": null,
   "metadata": {},
   "outputs": [],
   "source": [
    "# systematic error due to QCD scale factor"
   ]
  }
 ],
 "metadata": {
  "kernelspec": {
   "display_name": "Python 3.8.5 ('base')",
   "language": "python",
   "name": "python3"
  },
  "language_info": {
   "codemirror_mode": {
    "name": "ipython",
    "version": 3
   },
   "file_extension": ".py",
   "mimetype": "text/x-python",
   "name": "python",
   "nbconvert_exporter": "python",
   "pygments_lexer": "ipython3",
   "version": "3.8.5"
  },
  "orig_nbformat": 4,
  "vscode": {
   "interpreter": {
    "hash": "a1c4ff104de66f7bf97a6395944b92d7fbf583edab8cddf5d1bb9d2ea66434a9"
   }
  }
 },
 "nbformat": 4,
 "nbformat_minor": 2
}
