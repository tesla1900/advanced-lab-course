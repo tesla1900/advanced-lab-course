{
 "cells": [
  {
   "cell_type": "code",
   "execution_count": 10,
   "metadata": {},
   "outputs": [],
   "source": [
    "import numpy as np\n",
    "import matplotlib.pyplot as plt\n",
    "import os \n",
    "from lmfit import Parameters, minimize, fit_report\n",
    "\n",
    "output_dir = os.getcwd()"
   ]
  },
  {
   "cell_type": "code",
   "execution_count": 2,
   "metadata": {},
   "outputs": [],
   "source": [
    "# to contain all the data into one place\n",
    "# only need to run if we have new data\n",
    "import pickle\n",
    "\n",
    "data_dict = {\n",
    "    \"etiso8_njet0_qcd37_2665\":[\n",
    "        \"39.4784 +/- 0.0423736 GeV\", \"41.2451 +/- 0.0444014 GeV\", \n",
    "        \"41.8106 +/- 0.0405521 GeV\", \"42.3605 +/- 0.0459407 GeV\", \n",
    "        \"42.9221 +/- 0.0473117 GeV\", \" 43.5305 +/- 0.0404663 GeV\", \n",
    "        \"45.2309 +/- 0.0425886 GeV\"\n",
    "    ],   # base case\n",
    "    \"ptw10_qcd37_2665\":[\n",
    "        \"39.2923 +/- 0.0657924 GeV\", \"40.8123 +/- 0.0700304 GeV\", \n",
    "        \"41.35 +/- 0.0666937 GeV\", \"41.9307 +/- 0.0749529 GeV\",\n",
    "        \"42.5712 +/- 0.0852238 GeV\", \"43.1116 +/- 0.0712354 GeV\",\n",
    "        \"44.5412 +/- 0.103191 GeV\"\n",
    "    ],\n",
    "    \"ptw10_njet0_qcd37_2665\":[\n",
    "        \"39.3337 +/- 0.0703365 GeV\", \"40.8565 +/- 0.074536 GeV\",\n",
    "        \"41.3975 +/- 0.0712035 GeV\", \"41.9311 +/- 0.0781514 GeV\",\n",
    "        \"42.5656 +/- 0.0894602 GeV\", \"43.1147 +/- 0.0762419 GeV\",\n",
    "        \"44.5398 +/- 0.103191 GeV\" \n",
    "    ],\n",
    "    \"etiso8_njet0_qcd40_2665\":[\n",
    "        \"39.92 +/- 0.0492164 GeV\", \"41.5872 +/- 0.0467629 GeV\",\n",
    "        \"42.1024 +/- 0.0420073 GeV\", \"42.656 +/- 0.0448077 GeV\",\n",
    "        \"43.2608 +/- 0.0474972 GeV\", \"43.6906 +/- 0.0403156 GeV\",\n",
    "        \"45.3482 +/- 0.044938 GeV\"\n",
    "    ],\n",
    "    \"etiso8_njet0_qcd35_2665\":[\n",
    "        \"40.1088 +/- 0.0464933 GeV\", \"41.6698 +/- 0.0437758 GeV\",\n",
    "        \"42.1306 +/- 0.0419964 GeV\", \"42.7606 +/- 0.0471991 GeV\",\n",
    "        \"43.3321 +/- 0.049122 GeV\", \"43.719 +/- 0.0410752 GeV\",\n",
    "        \"45.3724 +/- 0.046614 GeV\"\n",
    "    ],\n",
    "    \"nocut_qcd37_2665\":[\n",
    "        \"37.4208 +/- 0.381072 GeV\", \"38.8992 +/- 0.701751 GeV\", \n",
    "        \"39.3664 +/- 0.192098 GeV\", \"39.6832 +/- 0.138895 GeV\", \n",
    "        \"40.1344 +/- 0.137097 GeV\", \" 40.9216 +/- 0.226304 GeV\", \n",
    "        \"42.16 +/- 0.24065 GeV\"\n",
    "    ],\n",
    "    \"etiso8_njet0_qcd37_2570\":[\n",
    "        \" 39.9915 +/- 0.0775079 GeV\", \"41.6671 +/- 0.0573744 GeV\", \n",
    "        \"42.2112 +/- 0.0543119 GeV\", \"42.836 +/- 0.0603719 GeV\", \n",
    "        \"43.3873 +/- 0.0573079 GeV\", \" 43.7433 +/- 0.0464772 GeV\", \n",
    "        \"45.3437 +/- 0.0482791 GeV\"\n",
    "    ],\n",
    "    \"etiso8_njet0_qcd37_3050\":[\n",
    "        \"40.1927 +/- 0.0520898 GeV\", \"41.7781 +/- 0.0593492 GeV\", \n",
    "        \"42.2529 +/- 0.0559498 GeV\", \"42.8529 +/- 0.0582604 GeV\", \n",
    "        \"43.4729 +/- 0.0673315 GeV\", \" 43.7813 +/- 0.0601883 GeV\", \n",
    "        \"45.4935 +/- 0.0999553 GeV\"\n",
    "    ]\n",
    "}\n",
    "\n",
    "with open(os.path.join(output_dir, \"gauge_curve_data.pkl\"), \"wb\") as f:\n",
    "    pickle.dump(data_dict, f)\n"
   ]
  },
  {
   "cell_type": "code",
   "execution_count": 7,
   "metadata": {},
   "outputs": [],
   "source": [
    "def convert_errstr_array(errstr_list):\n",
    "    '''\n",
    "    Converts list of strings of values with errors to two numpy arrays, \n",
    "    One with values and other with errors.\n",
    "    '''\n",
    "    if type(errstr_list) == list:\n",
    "        val_arr = np.zeros(len(errstr_list))\n",
    "        errval_arr = np.zeros(len(errstr_list))\n",
    "\n",
    "        for i, errstr in enumerate(errstr_list):\n",
    "            val, err_GeV = errstr.split(\"+/-\")\n",
    "            err_val = float(err_GeV[:-4])\n",
    "            val = float(val)\n",
    "\n",
    "            val_arr[i] = val\n",
    "            errval_arr[i] = err_val\n",
    "\n",
    "        return val_arr, errval_arr\n",
    "        \n",
    "    elif type(errstr_list) == str:\n",
    "        errstr = errstr_list\n",
    "        val, err_GeV = errstr.split(\"+/-\")\n",
    "        err_val = float(err_GeV[:-4])\n",
    "        val = float(val)\n",
    "\n",
    "        return val, err_val\n",
    "\n",
    "def residual(params, x, data, unc):\n",
    "    '''Residual function we want to minimize'''\n",
    "    slope = params[\"a\"]\n",
    "    intercept = params[\"b\"]\n",
    "\n",
    "    model = slope * x + intercept  # simple linear curve\n",
    "\n",
    "    return (model - data) / unc\n",
    "\n",
    "# def get_params(val_arr, errval_arr, mw_arr, atlas_halfmax, show=True):\n",
    "#     '''Get the parameters from the linear fit'''\n",
    "#     # perform linear fit\n",
    "#     (a, b), cov = np.polyfit(mw_arr, val_arr, deg=1, cov=True, w = 1. / errval_arr)\n",
    "\n",
    "#     if show:\n",
    "#         plt.plot(mw_arr, a * mw_arr + b, label=\"Fit\")\n",
    "#         plt.errorbar(mw_arr, val_arr, yerr=errval_arr, label=\"data\", marker=\"o\", ls=\"\", ms=5.0)\n",
    "\n",
    "#     # get the mass of the W boson\n",
    "#     mw_data = (atlas_halfmax - b) / a\n",
    "\n",
    "#     return a, b, cov, mw_data"
   ]
  },
  {
   "cell_type": "code",
   "execution_count": 39,
   "metadata": {},
   "outputs": [
    {
     "name": "stdout",
     "output_type": "stream",
     "text": [
      "\n",
      " Current Configuration: etiso8_njet0_qcd37_2665\n",
      "Mass of W boson from ATLAS data: 77.570 +- 0.847 GeV\n",
      "W boson mass is 3.378 sigma away from accepted value\n",
      "\n",
      " Current Configuration: ptw10_qcd37_2665\n",
      "Mass of W boson from ATLAS data: 81.330 +- 1.294 GeV\n",
      "W boson mass is 0.693 sigma away from accepted value\n",
      "\n",
      " Current Configuration: ptw10_njet0_qcd37_2665\n",
      "Mass of W boson from ATLAS data: 81.262 +- 0.961 GeV\n",
      "W boson mass is 0.863 sigma away from accepted value\n",
      "\n",
      " Current Configuration: etiso8_njet0_qcd40_2665\n",
      "Mass of W boson from ATLAS data: 80.438 +- 0.330 GeV\n",
      "W boson mass is 0.016 sigma away from accepted value\n",
      "\n",
      " Current Configuration: etiso8_njet0_qcd35_2665\n",
      "Mass of W boson from ATLAS data: 80.314 +- 0.701 GeV\n",
      "W boson mass is 0.170 sigma away from accepted value\n",
      "\n",
      " Current Configuration: nocut_qcd37_2665\n",
      "Mass of W boson from ATLAS data: 83.051 +- 7.398 GeV\n",
      "W boson mass is 0.354 sigma away from accepted value\n",
      "\n",
      " Current Configuration: etiso8_njet0_qcd37_2570\n",
      "Mass of W boson from ATLAS data: 76.568 +- 2.325 GeV\n",
      "W boson mass is 1.662 sigma away from accepted value\n",
      "\n",
      " Current Configuration: etiso8_njet0_qcd37_3050\n",
      "Mass of W boson from ATLAS data: 76.393 +- 2.152 GeV\n",
      "W boson mass is 1.877 sigma away from accepted value\n"
     ]
    },
    {
     "data": {
      "image/png": "[encoded data removed]",
      "text/plain": [
       "<Figure size 576x576 with 1 Axes>"
      ]
     },
     "metadata": {
      "needs_background": "light"
     },
     "output_type": "display_data"
    }
   ],
   "source": [
    "# the main code\n",
    "\n",
    "# # halfwidth obtained when running ATLAS data with the given cuts\n",
    "atlas_halfwidth_arr = [\n",
    "    0., 0., 0., 0., \"41.2065 +/- 0.202642 GeV\",\n",
    "    \"40.925 +/- 0.931269 GeV\", \"40.925 +/- 0.931269 GeV\",\n",
    "    \"43.183 +/- 0.0578452 GeV\"\n",
    "]\n",
    "# atlas_halfwidth_arr = [\n",
    "#     \"40.9737 +/- 0.484964 GeV\", \"41.1398 +/- 0.280774 GeV\",\n",
    "#      \"42.6352 +/- 0.0931504 GeV\", \"42.887 +/- 0.050338 GeV\",\n",
    "#     \"42.887 +/- 0.050338 GeV\", \"41.2065 +/- 0.202642 GeV\",\n",
    "#     \"40.925 +/- 0.931269 GeV\", \"40.925 +/- 0.931269 GeV\",\n",
    "#     \"43.183 +/- 0.0578452 GeV\"\n",
    "# ]\n",
    "\n",
    "# W boson masses\n",
    "mW_arr = np.array([\n",
    "    75, 78, 79, 80, 81, 82, 85\n",
    "])\n",
    "\n",
    "# create parameter object\n",
    "params = Parameters()\n",
    "\n",
    "# choose initial guess as from past reports\n",
    "params.add(\"a\", value=0.5)\n",
    "params.add(\"b\", value=1.3)\n",
    "\n",
    "\n",
    "# read out data\n",
    "with open(os.path.join(output_dir, \"gauge_curve_data.pkl\"), \"rb\") as f:\n",
    "    data_dict = pickle.load(f)\n",
    "\n",
    "plot = True\n",
    "\n",
    "# get parameters for each given set and cut\n",
    "for i, (config, hws_str) in enumerate(data_dict.items()):\n",
    "    print(\"\\n Current Configuration: {0}\".format(config))\n",
    "\n",
    "    hw, hw_err = convert_errstr_array(hws_str)\n",
    "\n",
    "    # perform linear fit\n",
    "    out = minimize(residual, params, args=(mW_arr, hw, hw_err))\n",
    "\n",
    "    # get parameter values and errors\n",
    "    a, a_err = out.params[\"a\"].value, out.covar[0][0]\n",
    "    b, b_err = out.params[\"b\"].value, out.covar[1][1]\n",
    "\n",
    "    # also get correlation coefficients\n",
    "    corr_coeff = out.covar[1][0]\n",
    "\n",
    "    # print out full fit report if need be\n",
    "    # print(fit_report(out))\n",
    "\n",
    "    # plot data with fit\n",
    "\n",
    "    if i == 0:\n",
    "        fig, ax = plt.subplots(figsize=(8,8))\n",
    "\n",
    "        xfit = np.linspace(mW_arr[0], mW_arr[-1], 500)\n",
    "        yfit = a * xfit + b\n",
    "        ax.plot(xfit, yfit, label=\"Fit, a = {0:.4f} +- {1:.4f}, b = {2:.4f} +- {3:.4f}\".format(a, a_err, b, b_err), color=\"k\")\n",
    "        ax.errorbar(mW_arr, hw, yerr=hw_err, label=\"Data\", color=\"b\", marker=\"o\", ls=\"\", ms=5.0, capsize=2.0)\n",
    "\n",
    "        ax.set_xlabel(\"W Boson Mass / GeV\")\n",
    "        ax.set_ylabel(\"Half-Width of Distribution / GeV\")\n",
    "        ax.set_title(\"Half-Width from W Boson measurement with {0}\".format(config))\n",
    "        ax.grid()\n",
    "        ax.legend(prop={\"size\":12})\n",
    "\n",
    "        # print(out.covar, out.params[\"a\"])\n",
    "\n",
    "\n",
    "    \n",
    "    # also convert atlas data from str to float\n",
    "    # print(atlas_halfwidth_arr[i])\n",
    "    atlas_hw, atlas_hw_err = convert_errstr_array(atlas_halfwidth_arr[i])\n",
    "\n",
    "    # get the mass of W boson from obtained halfwidth\n",
    "    atlas_mW = (atlas_hw - b) / a   # from y = mx +b  => x = (y - b) / a\n",
    "    hb_err = np.sqrt(atlas_hw_err**2. + b_err**2.)\n",
    "    atlas_mW_err = atlas_mW * np.sqrt( (a_err / a)**2. + (hb_err / (atlas_hw - b))**2. )\n",
    "    print(\"Mass of W boson from ATLAS data: {0:.3f} +- {1:.3f} GeV\".format(atlas_mW, atlas_mW_err))\n",
    "\n",
    "    # compare with accepted value of mW\n",
    "    mW_accepted = 80.433 \n",
    "\n",
    "    mW_tval = np.abs(atlas_mW - mW_accepted) / (atlas_mW_err)\n",
    "    print(\"W boson mass is {0:.3f} sigma away from accepted value\".format(mW_tval))\n"
   ]
  },
  {
   "cell_type": "code",
   "execution_count": 12,
   "metadata": {},
   "outputs": [
    {
     "name": "stdout",
     "output_type": "stream",
     "text": [
      "Systematic error from calibration: 0.30966251508938825 GeV\n"
     ]
    }
   ],
   "source": [
    "# check calibration using Z boson mass\n",
    "# systematic error due to calibration\n",
    "\n",
    "mZ_data = 91.53801863004914\n",
    "mZ_true = 91.1876\n",
    "delta_mZ = mZ_data - mZ_true\n",
    "\n",
    "# from relative uncertainty dW / W = dZ / Z\n",
    "mW_data = 80.58185022013751\n",
    "mW_err_calib = mW_data * delta_mZ / mZ_true\n",
    "print(\"Systematic error from calibration: {0} GeV\".format(mW_err_calib))"
   ]
  },
  {
   "cell_type": "code",
   "execution_count": null,
   "metadata": {},
   "outputs": [],
   "source": [
    "# # ptw < 10 only, qcd=0.37\n",
    "# # half_max =np.array([\n",
    "# #     39.2923, 40.8123, 41.35, 41.9307, 42.5712,  43.1116, 44.5412\n",
    "# # ])\n",
    "# # half_max_err =np.array([\n",
    "# #     0.0657924, 0.0700304, 0.0666937, 0.0749529, 0.0852238, 0.0712354, 0.103191\n",
    "# # ])\n",
    "\n",
    "# # ptw < 10, njet == 0, qcd=0.37\n",
    "# # half_max =np.array([\n",
    "# #     39.3337, 40.8565, 41.3975,  41.9311, 42.5656,  43.1147, 44.5398\n",
    "# # ])\n",
    "\n",
    "# # half_max_err =np.array([\n",
    "# #      0.0703365, 0.074536, 0.0712035, 0.0781514, 0.0894602, 0.0762419, 0.0924828\n",
    "# # ])\n",
    "\n",
    "# # el_etiso < 8, njet == 0, qcd=0.37\n",
    "# # half_max =np.array([\n",
    "# #      40.0512, 41.6582, 42.131,  42.7492, 43.3221,  43.7077, 45.3604\n",
    "# # ])\n",
    "\n",
    "# # half_max_err =np.array([\n",
    "# #      0.0511893, 0.0460512, 0.0433276, 0.0485094, 0.0484778, 0.0429815, 0.0472126\n",
    "# # ])\n",
    "\n",
    "# # el_etiso < 8, njet == 0, qcd=0.4\n",
    "# # half_max =np.array([\n",
    "# #      39.92, 41.5872, 42.1024,  42.656, 43.2608,  43.6906, 45.3482\n",
    "# # ])\n",
    "\n",
    "# # half_max_err =np.array([\n",
    "# #      0.0492164, 0.0467629, 0.0420073, 0.0448077, 0.0474972, 0.0403156, 0.0449381\n",
    "# # ])\n",
    "# # data obtained from half-max analysis\n",
    "\n",
    "# # # no cuts, qcd=0.37\n",
    "# # errstr_list = [\n",
    "# #      \"37.4208 +/- 0.381072 GeV\", \"38.8992 +/- 0.701751 GeV\", \"39.3664 +/- 0.192098 GeV\", \"39.6832 +/- 0.138895 GeV\", \n",
    "# #      \"40.1344 +/- 0.137097 GeV\", \" 40.9216 +/- 0.226304 GeV\", \"42.16 +/- 0.24065 GeV\"\n",
    "# # ]\n",
    "\n",
    "# # atlas_hw = 41.1603\n",
    "\n",
    "# # el_etiso < 8, njet == 0, qcd=0.37, region 25 - 70\n",
    "# # errstr_list = [\n",
    "# #      \" 39.9915 +/- 0.0775079 GeV\", \"41.6671 +/- 0.0573744 GeV\", \"42.2112 +/- 0.0543119 GeV\",\n",
    "# #       \"42.836 +/- 0.0603719 GeV\", \"43.3873 +/- 0.0573079 GeV\", \" 43.7433 +/- 0.0464772 GeV\", \n",
    "# #      \"45.3437 +/- 0.0482791 GeV\"\n",
    "# # ]\n",
    "\n",
    "# # atlas_hw = 40.925016\n",
    "\n",
    "# # # el_etiso < 8, njet == 0, qcd=0.37, region 30 - 50\n",
    "# # errstr_list = [\n",
    "# #      \"40.1927 +/- 0.0520898 GeV\", \"41.7781 +/- 0.0593492 GeV\", \"42.2529 +/- 0.0559498 GeV\",\n",
    "# #       \"42.8529 +/- 0.0582604 GeV\", \"43.4729 +/- 0.0673315 GeV\", \" 43.7813 +/- 0.0601883 GeV\", \n",
    "# #      \"45.4935 +/- 0.0999553 GeV\"\n",
    "# # ]\n",
    "\n",
    "# atlas_hw = 43.183037\n",
    "\n",
    "# # el_etiso < 8, njet == 0, qcd=0.37, region 26-65\n",
    "# # errstr_list = [\n",
    "# #      \"39.4784 +/- 0.0423736 GeV\", \"41.2451 +/- 0.0444014 GeV\", \"41.8106 +/- 0.0405521 GeV\",\n",
    "# #       \"42.3605 +/- 0.0459407 GeV\", \"42.9221 +/- 0.0473117 GeV\", \" 43.5305 +/- 0.0404663 GeV\", \n",
    "# #      \"45.2309 +/- 0.0425886 GeV\"\n",
    "# # ]\n",
    "\n",
    "# # atlas_hw = 42.887000\n",
    "\n",
    "# mw =np.array([\n",
    "#     75, 78, 79, 80, 81, 82, 85\n",
    "# ])\n"
   ]
  },
  {
   "cell_type": "code",
   "execution_count": null,
   "metadata": {},
   "outputs": [],
   "source": []
  },
  {
   "cell_type": "code",
   "execution_count": 83,
   "metadata": {},
   "outputs": [],
   "source": []
  },
  {
   "cell_type": "code",
   "execution_count": 84,
   "metadata": {},
   "outputs": [
    {
     "data": {
      "text/plain": [
       "(0.5266104411046301,\n",
       " 0.6957929828867329,\n",
       " array([[ 1.02802317e-04, -8.14380246e-03],\n",
       "        [-8.14380246e-03,  6.45873361e-01]]),\n",
       " 80.68059556128637)"
      ]
     },
     "execution_count": 84,
     "metadata": {},
     "output_type": "execute_result"
    },
    {
     "data": {
      "image/png": "[encoded data removed]",
      "text/plain": [
       "<Figure size 432x288 with 1 Axes>"
      ]
     },
     "metadata": {
      "needs_background": "light"
     },
     "output_type": "display_data"
    }
   ],
   "source": [
    "half_max, half_max_err = convert_errstr_array(errstr_list)\n",
    "get_params(half_max, half_max_err, mw, atlas_hw)"
   ]
  },
  {
   "cell_type": "code",
   "execution_count": 85,
   "metadata": {},
   "outputs": [
    {
     "data": {
      "text/plain": [
       "80.58185022013751"
      ]
     },
     "execution_count": 85,
     "metadata": {},
     "output_type": "execute_result"
    }
   ],
   "source": [
    "0.5*(80.901748763738 + 80.26195167653701)"
   ]
  },
  {
   "cell_type": "code",
   "execution_count": 67,
   "metadata": {},
   "outputs": [],
   "source": [
    "(a, b), cov = np.polyfit(mw, half_max, deg=1, cov=True, w = 1. / half_max_err)"
   ]
  },
  {
   "cell_type": "code",
   "execution_count": 68,
   "metadata": {},
   "outputs": [
    {
     "data": {
      "text/plain": [
       "<ErrorbarContainer object of 3 artists>"
      ]
     },
     "execution_count": 68,
     "metadata": {},
     "output_type": "execute_result"
    },
    {
     "data": {
      "image/png": "[encoded data removed]",
      "text/plain": [
       "<Figure size 432x288 with 1 Axes>"
      ]
     },
     "metadata": {
      "needs_background": "light"
     },
     "output_type": "display_data"
    }
   ],
   "source": [
    "plt.plot(mw, a * mw + b, label=\"Fit\")\n",
    "plt.errorbar(mw, half_max, yerr=half_max_err, label=\"data\", marker=\"o\", ls=\"\", ms=5.0)"
   ]
  },
  {
   "cell_type": "code",
   "execution_count": 69,
   "metadata": {},
   "outputs": [
    {
     "name": "stdout",
     "output_type": "stream",
     "text": [
      "0.4787593232345003 1.4448534122900802\n"
     ]
    }
   ],
   "source": [
    "print(a,b)"
   ]
  },
  {
   "cell_type": "code",
   "execution_count": 70,
   "metadata": {},
   "outputs": [],
   "source": [
    "# print(a, b)"
   ]
  },
  {
   "cell_type": "code",
   "execution_count": 71,
   "metadata": {},
   "outputs": [
    {
     "name": "stdout",
     "output_type": "stream",
     "text": [
      "[[ 5.43463960e-04 -4.38224226e-02]\n",
      " [-4.38224226e-02  3.53577235e+00]]\n"
     ]
    }
   ],
   "source": [
    "print(cov)"
   ]
  },
  {
   "cell_type": "code",
   "execution_count": 61,
   "metadata": {},
   "outputs": [],
   "source": [
    "# get mass of dataset from half-max obtained from ATLAS data\n",
    "# print((42.86 - b) / a)\n",
    "# this is the one with etiso < 8, njet == 0"
   ]
  },
  {
   "cell_type": "code",
   "execution_count": 62,
   "metadata": {},
   "outputs": [
    {
     "name": "stdout",
     "output_type": "stream",
     "text": [
      "80.26195167653701\n"
     ]
    }
   ],
   "source": [
    "# get mass of dataset from half-max obtained from ATLAS data\n",
    "print(( 42.859800 - b) / a)\n",
    "# one with njet == 0, ptw < 10 (but need to do it again sinec we didnt \n",
    "# use correct ATLAS value)"
   ]
  },
  {
   "cell_type": "code",
   "execution_count": 54,
   "metadata": {},
   "outputs": [
    {
     "data": {
      "text/plain": [
       "0.1005134147543032"
      ]
     },
     "execution_count": 54,
     "metadata": {},
     "output_type": "execute_result"
    }
   ],
   "source": [
    "80.3878878906251 - 80.28737447587079"
   ]
  },
  {
   "cell_type": "markdown",
   "metadata": {},
   "source": []
  },
  {
   "cell_type": "code",
   "execution_count": 43,
   "metadata": {},
   "outputs": [
    {
     "name": "stdout",
     "output_type": "stream",
     "text": [
      "91.53801863004914\n"
     ]
    }
   ],
   "source": [
    "print((   48.824768 - b) / a)"
   ]
  },
  {
   "cell_type": "code",
   "execution_count": 86,
   "metadata": {},
   "outputs": [
    {
     "name": "stdout",
     "output_type": "stream",
     "text": [
      "0.30966251508938825\n"
     ]
    }
   ],
   "source": [
    "\n"
   ]
  },
  {
   "cell_type": "code",
   "execution_count": null,
   "metadata": {},
   "outputs": [],
   "source": [
    "# systematic error due to QCD scale factor"
   ]
  }
 ],
 "metadata": {
  "kernelspec": {
   "display_name": "Python 3.8.5 ('base')",
   "language": "python",
   "name": "python3"
  },
  "language_info": {
   "codemirror_mode": {
    "name": "ipython",
    "version": 3
   },
   "file_extension": ".py",
   "mimetype": "text/x-python",
   "name": "python",
   "nbconvert_exporter": "python",
   "pygments_lexer": "ipython3",
   "version": "3.8.5"
  },
  "orig_nbformat": 4,
  "vscode": {
   "interpreter": {
    "hash": "a1c4ff104de66f7bf97a6395944b92d7fbf583edab8cddf5d1bb9d2ea66434a9"
   }
  }
 },
 "nbformat": 4,
 "nbformat_minor": 2
}
