{
 "cells": [
  {
   "cell_type": "markdown",
   "metadata": {},
   "source": [
    "## Vectorial Measurement of Coefficients\n",
    "\n",
    "Here we do the same thing for data obtained vectorially.\n",
    "\n",
    "To this end, we need to:\n",
    "- determine coupling coefficient, FWHM, unloaded quality factor, external quality factor, power loss\n",
    "- can get also length of conductor and compare this with actual length of conductor\n",
    "- compare between calibrated and uncalibrated results "
   ]
  },
  {
   "cell_type": "code",
   "execution_count": 2,
   "metadata": {},
   "outputs": [],
   "source": [
    "import numpy as np\n",
    "import matplotlib.pyplot as plt\n",
    "import os\n",
    "\n",
    "from utils import dB_to_U\n",
    "\n",
    "# modify this based on where you open the notebook\n",
    "PATH_TO_DATA = os.path.join(os.getcwd(), \"data\")\n",
    "\n",
    "# data has the following columns (for each column): resonant freq | rho at resonance | rho(omega0) unc | phase offset | kappa| rho at half fwhm | FWHM\n",
    "data = np.genfromtxt(os.path.join(PATH_TO_DATA, \"vector.csv\"), delimiter=\",\", missing_values=np.nan, filling_values=np.nan, skip_header=1, usecols=(0,1,2,3,5,6,7))\n",
    "\n",
    "uncal_data = data[0]\n",
    "cal_data = data[1]"
   ]
  },
  {
   "cell_type": "code",
   "execution_count": 3,
   "metadata": {},
   "outputs": [
    {
     "data": {
      "text/plain": [
       "array([ 2.99236253e+00,  4.43900000e+02,  5.00000000e-01,  2.80000000e+01,\n",
       "       -1.00451000e+00,  6.24400000e+02,  3.00150070e+00])"
      ]
     },
     "execution_count": 3,
     "metadata": {},
     "output_type": "execute_result"
    }
   ],
   "source": [
    "uncal_data"
   ]
  },
  {
   "cell_type": "code",
   "execution_count": 4,
   "metadata": {},
   "outputs": [],
   "source": [
    "# define bunch of functions to evaluate relevant quantities\n",
    "\n",
    "def coup_coeff(rho_res):\n",
    "    '''coupling coefficient, evaluated from reflection coeff. at resonant frequency'''\n",
    "    # need to have both positive and negative since we \n",
    "    # cannot tell if rho is >0 or <0 using scalar measurement\n",
    "    kappa_pos = (1 + np.abs(rho_res)) / (1 - np.abs(rho_res))\n",
    "    kappa_neg = 1 / kappa_pos\n",
    "\n",
    "    return kappa_pos, kappa_neg\n",
    "\n",
    "def rho_res_kappa(kappa):\n",
    "    '''reflection coeff. at resonance evaluated from coupling coefficient. Used for verification.'''\n",
    "    return np.abs((kappa - 1) / (kappa + 1))\n",
    "\n",
    "def refl_hfwhm(kappa):\n",
    "    '''reflection coefficient at half of FWHM using coupling coefficient'''\n",
    "    return np.sqrt(kappa**2. + 1) / (kappa + 1)\n",
    "\n",
    "def kappa_refl_hfwhm(rho_hfwhm):\n",
    "    '''Coupling coefficient from rho at half-FWHM. Use to check'''\n",
    "    kappa_pos = (-rho_hfwhm**2. + np.sqrt(2 * rho_hfwhm**2. + 1) ) / (rho_hfwhm**2. - 1)\n",
    "    kappa_neg = (-rho_hfwhm**2. - np.sqrt(2 * rho_hfwhm**2. + 1) ) / (rho_hfwhm**2. - 1)\n",
    "    return kappa_pos, kappa_neg\n",
    "\n",
    "def Q_factor(res_freq, fwhm_freq):\n",
    "    '''Loaded quality factor from resonant frequency and half of FWHM'''\n",
    "    return res_freq / fwhm_freq\n",
    "\n",
    "def Q0_factor(Q, kappa):\n",
    "    '''Unloaded quality factor from loaded one and coupling coefficient'''\n",
    "    return np.abs(1 + np.abs(kappa)) * Q\n",
    "\n",
    "def Qext_factor(Q0, kappa):\n",
    "    '''External quality factor'''\n",
    "    return Q0 / np.abs(kappa)\n",
    "\n",
    "def standing_wave_ratio(rho):\n",
    "    '''Standing wave ratio in terms of reflection coefficient'''\n",
    "    return np.abs(( 1 + np.abs(rho)) / (1 - np.abs(rho)))\n",
    "\n",
    "def power_loss_ratio(swr):\n",
    "    '''Ratio of power dissipated to input power'''\n",
    "    return 4 * swr / (1 + swr)**2.\n",
    "\n",
    "def length(phase, Q):\n",
    "    # convert phase\n",
    "    phase_rad = phase * np.pi / 180.\n",
    "    return phase_rad * Q / (2* np.pi)"
   ]
  },
  {
   "cell_type": "code",
   "execution_count": 5,
   "metadata": {},
   "outputs": [],
   "source": [
    "# error propagation of kappa, rho(half fwhm), Q, Q0\n",
    "\n",
    "def kappa_err(rho, rho_err):\n",
    "    return 2 * rho_err / (1 + rho)**2.\n",
    "\n",
    "def refl_hfwhm_err(kappa, kappa_err):\n",
    "    return (kappa - 1) * kappa_err / ( (1 + kappa) * np.sqrt(kappa**2. + 1) )\n",
    "\n",
    "def Q_err(res_freq, res_freq_err, half_fwhm, half_fwhm_err):\n",
    "    return np.sqrt((res_freq_err / half_fwhm)**2. + (res_freq * half_fwhm_err / half_fwhm**2. )**2.)\n",
    "\n",
    "def Q0_err(Q, Q_err, kappa, kappa_err):\n",
    "    return np.sqrt( (Q * kappa_err)**2. + (np.abs(1 + kappa) * Q_err)**2.)\n",
    "\n",
    "def Qext_err(Q0, Q0_err, kappa, kappa_err):\n",
    "    return np.sqrt(Q0_err**2. + (Q0 / kappa * kappa_err)**2. ) / np.abs(kappa)\n",
    "\n",
    "def swr_err(rho, rho_err):\n",
    "    return 2 * rho_err / (1-np.abs(rho))**2.\n",
    "\n",
    "def Ploss_err(swr, swr_err):\n",
    "    return np.sqrt((4 * (1 - swr) * swr_err / (1 + swr)**3.)**2.)"
   ]
  },
  {
   "cell_type": "markdown",
   "metadata": {},
   "source": [
    "## Evaluation of relevant quantities\n",
    "- Q-factors\n",
    "- FWHM\n",
    "- power loss\n",
    "- length of conductor\n",
    "\n",
    "\n",
    "Note: for the uncalibrated results, we got the wrong value of $\\rho(\\Delta \\omega)$ due to input error (we input wrong value of kappa) and thus the FWHM for uncalibrated is wrong.\n",
    "\n",
    "We should document this, but we can also evaluate what the actual value was supposed to be. We will work with the wrong values for now."
   ]
  },
  {
   "cell_type": "code",
   "execution_count": 6,
   "metadata": {},
   "outputs": [
    {
     "name": "stdout",
     "output_type": "stream",
     "text": [
      "(-1.0045156920298035, -0.9955046077770286) -1.00451\n",
      "Kappa, rho at half-FWHM -1.00451 624.4\n",
      "FWHM 0.0030015007\n",
      "kappa: -1.00451 +- 5.052137809588059e-06\n",
      "Q: 996.955464649067 +- 2.3486722722098987, Q0: 1998.4071984437012 +- 0.01172903339446619, Qext: 1989.4348472824572 +- 0.015377034114644087: \n",
      "Standing wave ratio: 1.0045156920298035 +- 5.097868627007866e-06\n",
      "Power loss ratio: 0.9999949250740467 +- 1.1432588314990051e-08\n",
      "Power loss: 0.0015673005836883051 +- 2.347618662822882e-05\n"
     ]
    }
   ],
   "source": [
    "'''What we got for uncalibrated data'''\n",
    "\n",
    "# minimal stepsize in VNA\n",
    "freq_uncal_err = 0.0000050  # GHz\n",
    "\n",
    "# all parameters in variables\n",
    "res_freq_uncal, rho_res_uncal, rho_res_uncal_err, phase_uncal, \\\n",
    "    kappa_uncal, rho_hfwhm_uncal, fwhm_uncal = uncal_data\n",
    "\n",
    "# convert fwhm to GHz\n",
    "fwhm_uncal *= 1e-3\n",
    "\n",
    "# convert reflection coefficient to U\n",
    "# rho_res_uncal *= 1e-3\n",
    "# rho_res_uncal_err *= 1e-3\n",
    "# rho_hfwhm_uncal *= 1e-3\n",
    "\n",
    "# evaluate necessary variables\n",
    "# check if we get same kappa_uncal, rho(half FWHM) as in lab\n",
    "kappa_uncal_eval = coup_coeff(rho_res_uncal)\n",
    "print(kappa_uncal_eval, kappa_uncal)\n",
    "\n",
    "rho_hfwhm_uncal_eval = refl_hfwhm(kappa_uncal_eval[1])\n",
    "# print(rho_hfwhm_uncal, rho_hfwhm_uncal_eval)\n",
    "print(\"Kappa, rho at half-FWHM\", kappa_uncal, rho_hfwhm_uncal)\n",
    "print(\"FWHM\", fwhm_uncal)\n",
    "\n",
    "# evaluate quantities\n",
    "Q_uncal = Q_factor(res_freq_uncal, fwhm_uncal)\n",
    "Q0_uncal = Q0_factor(Q_uncal, kappa_uncal)\n",
    "Qext_uncal = Qext_factor(Q0_uncal, kappa_uncal)\n",
    "\n",
    "# errors\n",
    "kappa_uncal_unc = kappa_err(rho_res_uncal, rho_res_uncal_err)\n",
    "Q_uncal_unc = Q_err(res_freq_uncal, freq_uncal_err, fwhm_uncal, np.sqrt(2) * freq_uncal_err)\n",
    "Q0_uncal_unc = Q0_err(Q_uncal, Q_uncal_unc, kappa_uncal, kappa_uncal_unc)\n",
    "Qext_uncal_unc = Qext_err(Q0_uncal, Q0_uncal_unc, kappa_uncal, kappa_uncal_unc)\n",
    "\n",
    "print(\"kappa: {0} +- {1}\".format(kappa_uncal, kappa_uncal_unc))\n",
    "print(\"Q: {0} +- {1}, Q0: {2} +- {3}, Qext: {4} +- {5}: \".format(Q_uncal, Q_uncal_unc, Q0_uncal, Q0_uncal_unc, Qext_uncal, Qext_uncal_unc))\n",
    "\n",
    "swr_uncal = standing_wave_ratio(rho_res_uncal)\n",
    "swr_uncal_err = swr_err(rho_res_uncal, rho_res_uncal_err)\n",
    "print(\"Standing wave ratio: {0} +- {1}\".format(swr_uncal, swr_uncal_err))\n",
    "\n",
    "Ploss_uncal = power_loss_ratio(swr_uncal)\n",
    "Ploss_uncal_err = Ploss_err(swr_uncal, swr_uncal_err)\n",
    "print(\"Power loss ratio: {0} +- {1}\".format(Ploss_uncal, Ploss_uncal_err))\n",
    "\n",
    "P0, P0_err = dB_to_U(1.5, 0.1)  # reference point of 1mW\n",
    "print(\"Power loss: {0} +- {1}\".format(Ploss_uncal*P0 * 0.001, np.sqrt(Ploss_uncal_err**2. + (P0_err * 0.001)**2.)))\n",
    "# l_uncal = length(phase_uncal, Q_uncal)\n",
    "# print(\"Length of conductor: \", l_uncal / 1.5)"
   ]
  },
  {
   "cell_type": "code",
   "execution_count": 9,
   "metadata": {},
   "outputs": [
    {
     "name": "stdout",
     "output_type": "stream",
     "text": [
      "0.0022187499\n",
      "(-1.0034470872113064, -0.9965647543799382) -1.498\n",
      "Kappa, rho at half-FWHM -1.498 410.97\n",
      "kappa: -1.498 +- 2.950228117538504e-06\n",
      "Q: 1348.3099199238272 +- 4.2970107565032825, Q0: 3368.0781799697206 +- 2.1399150538667535, Qext: 2248.3832977100938 +- 1.428521585183922: \n",
      "Standing wave ratio: 1.0034470872113064 +- 2.9706025605881123e-06\n",
      "Power loss ratio: 0.999997039610953 +- 5.093580604307629e-09\n",
      "Power loss / mW: 1.5673005836883052 +- 0.023476183844472778\n"
     ]
    }
   ],
   "source": [
    "'''What we got for uncalibrated data'''\n",
    "\n",
    "# minimal stepsize in VNA\n",
    "freq_cal_err = 0.0000050  # GHz\n",
    "\n",
    "# all parameters in variables\n",
    "res_freq_cal, rho_res_cal, rho_res_cal_err, phase_cal, \\\n",
    "    kappa_cal, rho_hfwhm_cal, fwhm_cal = cal_data\n",
    "\n",
    "# convert fwhm to GHz\n",
    "fwhm_cal *= 1e-3\n",
    "print(fwhm_cal)\n",
    "# convert reflection coefficient to U\n",
    "# rho_res_cal *= 1e-3\n",
    "# rho_res_cal_err *= 1e-3\n",
    "# rho_hfwhm_cal *= 1e-3\n",
    "\n",
    "# evaluate necessary variables\n",
    "# check if we get same kappa_cal, rho(half FWHM) as in lab\n",
    "kappa_cal_eval = coup_coeff(rho_res_cal)\n",
    "print(kappa_cal_eval, kappa_cal)\n",
    "\n",
    "rho_hfwhm_cal_eval = refl_hfwhm(kappa_cal_eval[1])\n",
    "# print(rho_hfwhm_cal, rho_hfwhm_cal_eval)\n",
    "print(\"Kappa, rho at half-FWHM\", kappa_cal, rho_hfwhm_cal)\n",
    "\n",
    "# evaluate quantities\n",
    "Q_cal = Q_factor(res_freq_cal, fwhm_cal)\n",
    "Q0_cal = Q0_factor(Q_cal, kappa_cal)\n",
    "Qext_cal = Qext_factor(Q0_cal, kappa_cal)\n",
    "\n",
    "# errors\n",
    "kappa_cal_unc = kappa_err(rho_res_cal, rho_res_cal_err)\n",
    "Q_cal_unc = Q_err(res_freq_cal, freq_cal_err, fwhm_cal, np.sqrt(2) * freq_cal_err)\n",
    "Q0_cal_unc = Q0_err(Q_cal, Q_cal_unc, kappa_cal, kappa_cal_unc)\n",
    "Qext_cal_unc = Qext_err(Q0_cal, Q0_cal_unc, kappa_cal, kappa_cal_unc)\n",
    "\n",
    "print(\"kappa: {0} +- {1}\".format(kappa_cal, kappa_cal_unc))\n",
    "print(\"Q: {0} +- {1}, Q0: {2} +- {3}, Qext: {4} +- {5}: \".format(Q_cal, Q_cal_unc, Q0_cal, Q0_cal_unc, Qext_cal, Qext_cal_unc))\n",
    "\n",
    "swr_cal = standing_wave_ratio(np.abs(rho_res_cal))\n",
    "swr_cal_err = swr_err(rho_res_cal, rho_res_cal_err)\n",
    "print(\"Standing wave ratio: {0} +- {1}\".format(swr_cal, swr_cal_err))\n",
    "\n",
    "Ploss_cal = power_loss_ratio(swr_cal)\n",
    "Ploss_cal_err = Ploss_err(swr_cal, swr_cal_err)\n",
    "print(\"Power loss ratio: {0} +- {1}\".format(Ploss_cal, Ploss_cal_err))\n",
    "\n",
    "P0, P0_err = dB_to_U(1.5, 0.1)  # reference point of 1mW\n",
    "print(\"Power loss / mW: {0} +- {1}\".format(Ploss_uncal*P0, np.sqrt(Ploss_uncal_err**2. + (P0_err)**2.)))\n",
    "\n",
    "# l_cal = length(phase_cal, Q_cal)\n",
    "# print(\"Length of conductor: \", l_cal / 1.5)"
   ]
  },
  {
   "cell_type": "markdown",
   "metadata": {},
   "source": [
    "Below is what we should have gotten for uncalibrated data. We get the FWHM from interpolating the plot $|\\rho| vs \\Delta\\omega$ such that $|\\rho| = |\\rho_{FWHM}|$. "
   ]
  },
  {
   "cell_type": "code",
   "execution_count": 12,
   "metadata": {},
   "outputs": [
    {
     "name": "stdout",
     "output_type": "stream",
     "text": [
      "(-1.0045156920298035, -0.9955046077770286)\n"
     ]
    }
   ],
   "source": [
    "# '''What we should have gotten for uncalibrated data'''\n",
    "\n",
    "# from scipy.interpolate import interp1d\n",
    "\n",
    "# # minimal stepsize in VNA\n",
    "# freq_err = 0.0000050  # GHz\n",
    "\n",
    "# # all parameters in variables\n",
    "# res_freq_uncal_true, rho_res_uncal_true, rho_res_uncal_true_err, phase_uncal_true, _, _, _ = uncal_data\n",
    "\n",
    "# # convert reflection coefficient to U\n",
    "# # rho_res_uncal *= 1e-3\n",
    "# # rho_res_uncal_err *= 1e-3\n",
    "# # rho_hfwhm_uncal *= 1e-3\n",
    "\n",
    "# # evaluate necessary variables\n",
    "# # check if we get same kappa_uncal, rho(half FWHM) as in lab\n",
    "# kappa_uncal_true_eval = coup_coeff(rho_res_uncal_true)\n",
    "# print(kappa_uncal_true_eval)\n",
    "\n",
    "# rho_hfwhm_uncal_true_eval = refl_hfwhm(kappa_uncal_true_eval[1])\n",
    "\n",
    "# # now start interpolation procedure\n",
    "\n",
    "# # \n",
    "# # print(rho_hfwhm_uncal_true, rho_hfwhm_uncal_eval)\n",
    "\n",
    "# # # evaluate quantities\n",
    "# # Q_uncal = Q_factor(res_freq_uncal, fwhm_uncal)\n",
    "# # Q0_uncal = Q0_factor(Q_uncal, kappa_uncal)\n",
    "# # Qext_uncal = Qext_factor(Q0_uncal, kappa_uncal)\n",
    "\n",
    "# # print(\"Q, Q0, Qext: \", Q_uncal, Q0_uncal, Qext_uncal)\n",
    "\n",
    "# # swr_uncal = standing_wave_ratio(rho_res_uncal)\n",
    "# # print(\"Standing wave ratio: \", swr_uncal)\n",
    "\n",
    "# # Ploss_uncal = 4 * swr_uncal / ( 1 + swr_uncal)**2.\n",
    "# # print(\"Power loss ratio: \", Ploss_uncal)"
   ]
  },
  {
   "cell_type": "code",
   "execution_count": 7,
   "metadata": {},
   "outputs": [
    {
     "data": {
      "text/plain": [
       "0.003001500752000119"
      ]
     },
     "execution_count": 7,
     "metadata": {},
     "output_type": "execute_result"
    }
   ],
   "source": [
    "# # FWHM for uncalibrated (from image)\n",
    "# fwhm_uncal = 2 * (2.993062875188 - 2.991562124812)\n",
    "\n",
    "# # FWHM for calibrated (from image)\n",
    "# fwhm_cal = 2.9914375 - 2.99365625"
   ]
  },
  {
   "cell_type": "code",
   "execution_count": 8,
   "metadata": {},
   "outputs": [
    {
     "data": {
      "text/plain": [
       "-0.002218749999999936"
      ]
     },
     "execution_count": 8,
     "metadata": {},
     "output_type": "execute_result"
    }
   ],
   "source": []
  },
  {
   "cell_type": "code",
   "execution_count": 32,
   "metadata": {},
   "outputs": [
    {
     "data": {
      "text/plain": [
       "-1.0022674882097262"
      ]
     },
     "execution_count": 32,
     "metadata": {},
     "output_type": "execute_result"
    }
   ],
   "source": []
  },
  {
   "cell_type": "code",
   "execution_count": null,
   "metadata": {},
   "outputs": [],
   "source": []
  }
 ],
 "metadata": {
  "interpreter": {
   "hash": "a36a7aa7dd9d5e1a191ef08db3efa241dd90c17eb065e39bfa16de4e9672f4ea"
  },
  "kernelspec": {
   "display_name": "Python 3.8.5 ('base')",
   "language": "python",
   "name": "python3"
  },
  "language_info": {
   "codemirror_mode": {
    "name": "ipython",
    "version": 3
   },
   "file_extension": ".py",
   "mimetype": "text/x-python",
   "name": "python",
   "nbconvert_exporter": "python",
   "pygments_lexer": "ipython3",
   "version": "3.8.5"
  },
  "orig_nbformat": 4
 },
 "nbformat": 4,
 "nbformat_minor": 2
}
