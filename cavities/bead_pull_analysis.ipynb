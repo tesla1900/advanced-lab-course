{
 "cells": [
  {
   "cell_type": "code",
   "execution_count": 2,
   "metadata": {},
   "outputs": [],
   "source": [
    "import numpy as np\n",
    "import matplotlib.pyplot as plt\n",
    "from scipy.integrate import quadrature\n",
    "import os\n",
    "\n",
    "from utils import dB_to_U\n",
    "\n",
    "# modify this based on where you open the notebook\n",
    "PATH_TO_DATA = os.path.join(os.getcwd(), \"data\")\n",
    "\n",
    "# data has the following columns (for each column): position of bead [mm] | delta resonant freq | delta |rho| |\n",
    "data = np.genfromtxt(os.path.join(PATH_TO_DATA, \"bead_pull.csv\"), delimiter=\",\", missing_values=np.nan, filling_values=np.nan, skip_header=1)\n",
    "data = data.T\n",
    "# data\n"
   ]
  },
  {
   "cell_type": "code",
   "execution_count": 3,
   "metadata": {},
   "outputs": [],
   "source": [
    "# define bunch of functions to evaluate relevant quantities\n",
    "\n",
    "def coup_coeff(rho_res):\n",
    "    '''coupling coefficient, evaluated from reflection coeff. at resonant frequency'''\n",
    "    # need to have both positive and negative since we \n",
    "    # cannot tell if rho is >0 or <0 using scalar measurement\n",
    "    kappa_pos = (1 + np.abs(rho_res)) / (1 - np.abs(rho_res))\n",
    "    kappa_neg = 1 / kappa_pos\n",
    "\n",
    "    return kappa_pos, kappa_neg\n",
    "\n",
    "def rho_res_kappa(kappa):\n",
    "    '''reflection coeff. at resonance evaluated from coupling coefficient. Used for verification.'''\n",
    "    return np.abs((kappa - 1) / (kappa + 1))\n",
    "\n",
    "def refl_hfwhm(kappa):\n",
    "    '''reflection coefficient at half of FWHM using coupling coefficient'''\n",
    "    return np.sqrt(kappa**2. + 1) / (kappa + 1)\n",
    "\n",
    "def Q_factor(res_freq, fwhm_freq):\n",
    "    '''Loaded quality factor from resonant frequency and half of FWHM'''\n",
    "    return res_freq / fwhm_freq\n",
    "\n",
    "def Q0_factor(Q, kappa):\n",
    "    '''Unloaded quality factor from loaded one and coupling coefficient'''\n",
    "    return np.abs(1 + kappa) * Q\n",
    "\n",
    "def standing_wave_ratio(rho):\n",
    "    '''Standing wave ratio in terms of reflection coefficient'''\n",
    "    return np.abs(( 1 + np.abs(rho)) / (1 - np.abs(rho)))\n",
    "\n",
    "def power_loss_ratio(swr):\n",
    "    '''Ratio of power dissipated to input power'''\n",
    "    return 4 * swr / (1 + swr)**2.\n"
   ]
  },
  {
   "cell_type": "code",
   "execution_count": 4,
   "metadata": {},
   "outputs": [],
   "source": [
    "# error propagation of kappa, rho(half fwhm), Q, Q0\n",
    "\n",
    "def coupl_err(rho, rho_err):\n",
    "    return 2 * rho_err / (1 + rho)**2.\n",
    "\n",
    "def refl_hfwhm_err(kappa, kappa_err):\n",
    "    return (kappa - 1) * kappa_err / ( (1 + kappa) * np.sqrt(kappa**2. + 1) )\n",
    "\n",
    "def Qfact_err(res_freq, res_freq_err, fwhm, fwhm_err):\n",
    "    return np.sqrt((res_freq_err / fwhm)**2. + (res_freq * fwhm_err / fwhm**2. )**2.)\n",
    "\n",
    "def Q0fact_err(Q, Q_err, kappa, kappa_err):\n",
    "    return np.sqrt( (Q * kappa_err)**2. + (np.abs(1 + kappa) * Q_err)**2.)\n",
    "\n",
    "def Qextfact_err(Q0, Q0_err, kappa, kappa_err):\n",
    "    return np.sqrt(Q0_err**2. + (Q0 / kappa * kappa_err)**2. ) / np.abs(kappa)\n",
    "\n",
    "def standing_wave_err(rho, rho_err):\n",
    "    return 2 * rho_err / (1-np.abs(rho))**2.\n",
    "\n",
    "def powerloss_ratio_err(swr, swr_err):\n",
    "    return np.sqrt((4 * (1 - swr) * swr_err / (1 + swr)**3.)**2.)"
   ]
  },
  {
   "cell_type": "code",
   "execution_count": 5,
   "metadata": {},
   "outputs": [
    {
     "name": "stdout",
     "output_type": "stream",
     "text": [
      "Resonant frequency: 2.9939375000000004 GHz +- 5e-06\n",
      "Reflection coefficient at resonance: -11.15 dB +- 0.003\n",
      "Coupling coefficient: 1.19723 +- 5.823970491882841e-05\n",
      "Q: 4204.9683988764045 +- 41.760698196075886\n",
      "Q0: 9239.282715063204 +- 91.7581857031704\n",
      "FWHM: 0.0007120000000000001 GHz\n",
      "Initial Power: 1.1885022274370185mW +- 0.011514500902180877\n",
      "Standing wave ratio: 1.1970443349753694 +- 5.823970491882841e-05\n",
      "Power lost, ratio: 0.9919564037080981 +- 4.328392623445083e-06\n",
      "Power lost: 1.178942395327489 mW +- 0.011421884063893084\n",
      "Stored Energy: 3.6382129203446896e-09 Ws +- 5.0477243673932726e-11 \n"
     ]
    }
   ],
   "source": [
    "# evaluate kappa, Q, FWHM, reflection coefficient, stored energy, power loss\n",
    "res_freq = 2.9939375 * 1e9 # Hz\n",
    "rho_res = -11.15  # dB\n",
    "rho_res_err = 0.003\n",
    "freq_err = 0.0000050 * 1e9 # Hz\n",
    "\n",
    "kappa = 1.19723\n",
    "rho_hfwhm = -7.9088\n",
    "fwhm = 2 * 0.356 * 1e-3 * 1e9 # Hz\n",
    "\n",
    "# evaluate quality factor\n",
    "Q = Q_factor(res_freq, fwhm)\n",
    "Q0 = Q0_factor(Q, kappa)\n",
    "\n",
    "# evaluate errors\n",
    "kappa_err = coupl_err(rho_res, rho_res_err)\n",
    "Q_err = Qfact_err(res_freq, freq_err, fwhm, np.sqrt(2) * freq_err)\n",
    "Q0_err = Q0fact_err(Q, Q_err, kappa, kappa_err)\n",
    "\n",
    "# print results\n",
    "print(\"Resonant frequency: {0} GHz +- {1}\".format(res_freq* 1e-9, freq_err* 1e-9))\n",
    "print(\"Reflection coefficient at resonance: {0} dB +- {1}\".format(rho_res, rho_res_err))\n",
    "print(\"Coupling coefficient: {0} +- {1}\".format(kappa, kappa_err))\n",
    "print(\"Q: {0} +- {1}\".format(Q, Q_err))\n",
    "print(\"Q0: {0} +- {1}\".format(Q0, Q0_err))\n",
    "print(\"FWHM: {0} GHz\".format(fwhm* 1e-9))\n",
    "\n",
    "\n",
    "# we made this up based on what we think the input power should have been based on the configuration\n",
    "# input this somewhere in the icloud numbers file\n",
    "P0 = 1.5  # dB\n",
    "P0_err = 0.1  # dB\n",
    "\n",
    "# convert them to W (reference to 1mW)\n",
    "P0 = 1e-3 * 10**(P0 / 20)\n",
    "P0_err = 1e-3 * np.log(10) * 10**(P0 / 20 - 1) / 2 * P0_err\n",
    "\n",
    "# print(P0, P0_err)\n",
    "# stored energy\n",
    "print(\"Initial Power: {0}mW +- {1}\".format(P0 * 1e3, P0_err * 1e3))\n",
    "\n",
    "# power lost\n",
    "swr = standing_wave_ratio(rho_res)\n",
    "swr_err = standing_wave_err(rho_res, rho_res_err)\n",
    "ploss_ratio = power_loss_ratio(swr)\n",
    "ploss_ratio_err = powerloss_ratio_err(swr, swr_err)\n",
    "\n",
    "print(\"Standing wave ratio: {0} +- {1}\".format(swr, swr_err))\n",
    "print(\"Power lost, ratio: {0} +- {1}\".format(ploss_ratio, ploss_ratio_err))\n",
    "\n",
    "Ploss = ploss_ratio * P0\n",
    "Ploss_err = np.sqrt( (P0 * ploss_ratio_err)**2. + (ploss_ratio * P0_err)**2. )\n",
    "\n",
    "print(\"Power lost: {0} mW +- {1}\".format(Ploss * 1e3, Ploss_err * 1e3))\n",
    "\n",
    "# stored energy\n",
    "W = Q0 * Ploss / ( res_freq )\n",
    "W_err = np.sqrt( (Ploss * Q0_err)**2. + (Q0 * Ploss_err)**2. + (Q0 * Ploss * freq_err / res_freq)**2. ) / res_freq\n",
    "\n",
    "print(\"Stored Energy: {0} Ws +- {1} \".format(W, W_err))\n"
   ]
  },
  {
   "cell_type": "code",
   "execution_count": 6,
   "metadata": {},
   "outputs": [],
   "source": [
    "# evaluate perturbing constant\n",
    "eps0 = 8.8541878128e-12 # in C V^-1 m^-1\n",
    "eps_bead = 2.1 * eps0\n",
    "eps_air = 1.0006 * eps0\n",
    "\n",
    "bead_rad = 1e-3  # in meters\n",
    "bead_vol = 4 * np.pi / 3. * bead_rad**3.   # volume of bead, approximate as sphere\n",
    "\n",
    "# perturbing constant\n",
    "alpha_s = 0.5 * (eps_bead - eps_air) * bead_vol\n",
    "\n",
    "\n",
    "def E0_res(delta_omega, res_freq, W):\n",
    "    '''Electric field using resonant method'''\n",
    "    return np.sqrt(2 * W * delta_omega / (alpha_s * res_freq))\n",
    "\n",
    "def E0_nonres(delta_rho, kappa, Q0, W):\n",
    "    '''Electric field using resonant method'''\n",
    "    return np.sqrt( (1 + kappa)**2. * W * delta_rho / (2 * kappa * Q0 * alpha_s) ) \n",
    "\n",
    "def E0_res_err(delta_omega, res_freq, W, delta_omega_err, res_freq_err, W_err):\n",
    "    W_term = np.sqrt(delta_omega / (alpha_s * res_freq * W)) * W_err\n",
    "    delta_omega_term = np.zeros_like(delta_omega)\n",
    "    for i, d_omega in enumerate(delta_omega):\n",
    "        delta_omega_term[i] = 0 if d_omega <= 1e-30 else np.sqrt(W / (alpha_s * res_freq * d_omega)) * delta_omega_err\n",
    "    # delta_omega_term = np.sqrt(W / (alpha_s * res_freq * delta_omega)) * delta_omega_err\n",
    "    resfreq_term = np.sqrt(delta_omega * W / (2 * res_freq**3. * alpha_s)) * res_freq_err\n",
    "\n",
    "    return np.sqrt(W_term**2. + delta_omega_term**2. + resfreq_term**2.)\n",
    "\n",
    "def E0_nonres_err(delta_rho, kappa, Q0, W, delta_rho_err, kappa_err, Q0_err, W_err):\n",
    "    W_term = 0.5 * np.sqrt( (1 + kappa)**2. * delta_rho / (2 * kappa * Q0 * alpha_s * W)) * W_err\n",
    "    delta_rho_term = np.zeros_like(delta_rho)\n",
    "    for i, d_rho in enumerate(delta_rho):\n",
    "        delta_rho_term[i] = 0 if d_rho <= 1e-30 else 0.5 * np.sqrt( (1 + kappa)**2. * W / (2 * kappa * Q0 * alpha_s * d_rho)) * delta_rho_err\n",
    "    # delta_rho_term = 0.5 * np.sqrt( (1 + kappa)**2. * W / (2 * kappa * Q0 * alpha_s * delta_rho)) * delta_rho_err\n",
    "    Q0_term = 0.5 * np.sqrt( (1 + kappa)**2. * W * delta_rho / (2 * kappa * alpha_s * Q0**3.)) * Q0_err\n",
    "    kappa_term = 0.5 * (3 * kappa - 1) * np.sqrt(W * delta_rho / (2 * Q0 * alpha_s * kappa**3.)) * kappa_err\n",
    "    return np.sqrt(W_term**2. + delta_rho_term**2. + Q0_term**2. + kappa_term**2.)\n"
   ]
  },
  {
   "cell_type": "code",
   "execution_count": 7,
   "metadata": {},
   "outputs": [
    {
     "name": "stdout",
     "output_type": "stream",
     "text": [
      "Max. using resonant method: 3653.971553574399 +- 165.41523664775343\n",
      "Max. using non-resonant method: 4390.53775354778 +- 39.74941602780442\n"
     ]
    },
    {
     "data": {
      "image/png": "[encoded data removed]",
      "text/plain": [
       "<Figure size 576x432 with 1 Axes>"
      ]
     },
     "metadata": {
      "needs_background": "light"
     },
     "output_type": "display_data"
    }
   ],
   "source": [
    "# plot position vs E0 for non-resoant and resonant method\n",
    "\n",
    "bead_pos = (data[0] - data[0][0]) * 1e-3 # m\n",
    "delta_omega = data[1] * 1e3  # Hz\n",
    "delta_rho = data[2]  # dB\n",
    "bead_pos_err = 0.2 * 1e-3  # m\n",
    "delta_omega_err = 7 * 1e3 # Hz\n",
    "delta_rho_err = 0.003   #dB\n",
    "\n",
    "E0_r = E0_res(delta_omega, res_freq, W)\n",
    "E0_r_err = E0_res_err(delta_omega, res_freq, W, delta_omega_err, freq_err, W_err)\n",
    "\n",
    "E0_nr = E0_nonres(delta_rho, kappa, Q0, W)\n",
    "E0_nr_err = E0_nonres_err(delta_rho, kappa, Q0, W, delta_rho_err, kappa_err, Q0_err, W_err)\n",
    "\n",
    "fig, ax = plt.subplots(figsize=(8,6), tight_layout=True)\n",
    "ax.errorbar(bead_pos * 1e3, E0_r, yerr=E0_r_err, label=\"Resonant\", color=\"b\", \n",
    "            ls=\"\", marker=\"o\", ms=4.0, capsize=2.0)\n",
    "ax.errorbar(bead_pos * 1e3, E0_nr, yerr=E0_nr_err, label=\"Non-resonant\", color=\"r\", \n",
    "            ls=\"\", marker=\"s\", ms=4.0, capsize=2.0)\n",
    "\n",
    "ax.set_xlabel(\"Position of Bead / mm\", fontsize=12)\n",
    "ax.set_ylabel(\"Electric Field $E_0$ / Vm$^{{-1}}$\", fontsize=12)\n",
    "ax.set_title(\"Electric Field of $TM_{{010}}$ Mode in Cylindrical Cavity\", fontsize=14)\n",
    "\n",
    "ax.grid()\n",
    "ax.legend(prop={\"size\":12})\n",
    "\n",
    "# print max\n",
    "print(\"Max. using resonant method: {0} +- {1}\".format(np.max(E0_r), E0_r_err[np.argmax(E0_r)]))\n",
    "print(\"Max. using non-resonant method: {0} +- {1}\".format(np.max(E0_nr), E0_nr_err[np.argmax(E0_nr)]))"
   ]
  },
  {
   "cell_type": "code",
   "execution_count": 8,
   "metadata": {},
   "outputs": [
    {
     "name": "stdout",
     "output_type": "stream",
     "text": [
      "Max. using resonant method: 3558.1361080423303 +- 178.91073079524298\n",
      "Max. using non-resonant method: 4275.38383525167 +- 101.2541927512997\n"
     ]
    },
    {
     "data": {
      "image/png": "[encoded data removed]",
      "text/plain": [
       "<Figure size 576x432 with 1 Axes>"
      ]
     },
     "metadata": {
      "needs_background": "light"
     },
     "output_type": "display_data"
    }
   ],
   "source": [
    "# now consider the transit time factor\n",
    "c = 3e8  # speed of light\n",
    "\n",
    "def transit_time_factor(z, res_freq):\n",
    "    return np.cos(res_freq * z / c)\n",
    "def transit_time_factor_err(z, zerr, res_freq, res_freq_err):\n",
    "    return np.sqrt( (np.sin(res_freq * z / c) * z / c * res_freq_err)**2. \\\n",
    "                    + (np.sin(res_freq * z / c) * res_freq / c * zerr))\n",
    "\n",
    "tt = transit_time_factor(bead_pos, res_freq)\n",
    "tt_err = transit_time_factor_err(bead_pos, bead_pos_err, res_freq, freq_err)\n",
    "\n",
    "E0_r_tt = E0_r * tt\n",
    "E0_r_tt_err = np.sqrt((E0_r * tt_err)**2. + (tt * E0_r_err)**2.)\n",
    "\n",
    "E0_nr_tt = E0_nr * tt\n",
    "E0_nr_tt_err = np.sqrt((E0_nr * tt_err)**2. + (tt * E0_nr_err)**2.)\n",
    "\n",
    "fig, ax = plt.subplots(figsize=(8,6), tight_layout=True)\n",
    "ax.errorbar(bead_pos * 1e3, E0_r_tt, yerr=E0_r_tt_err, label=\"Resonant\", color=\"b\", \n",
    "            ls=\"\", marker=\"o\", ms=4.0, capsize=2.0)\n",
    "ax.errorbar(bead_pos * 1e3, E0_nr_tt, yerr=E0_nr_tt_err, label=\"Non-resonant\", color=\"r\", \n",
    "            ls=\"\", marker=\"s\", ms=4.0, capsize=2.0)\n",
    "\n",
    "ax.set_xlabel(\"Position of Bead / mm\", fontsize=12)\n",
    "ax.set_ylabel(\"Electric Field $E_0$ / Vm$^{{-1}}$\", fontsize=12)\n",
    "ax.set_title(\"Electric Field of $TM_{{010}}$ Mode including Time Transit Factor\", fontsize=14)\n",
    "\n",
    "ax.grid()\n",
    "ax.legend(prop={\"size\":12})\n",
    "\n",
    "# print max\n",
    "print(\"Max. using resonant method: {0} +- {1}\".format(np.max(E0_r_tt), E0_r_tt_err[np.argmax(E0_r_tt)]))\n",
    "print(\"Max. using non-resonant method: {0} +- {1}\".format(np.max(E0_nr_tt), E0_nr_tt_err[np.argmax(E0_nr_tt)]))"
   ]
  },
  {
   "cell_type": "markdown",
   "metadata": {},
   "source": [
    "## Shunt impedance\n",
    "\n",
    "- Shift bead position so that it is zero at the center of the cavity\n",
    "  - for interpolation\n",
    "- interpolate the electric field \n",
    "- using gauss-legendre quadrature to integrate over -L/2 to L/2 \n",
    "- divide by the power dissipation\n"
   ]
  },
  {
   "cell_type": "code",
   "execution_count": 9,
   "metadata": {},
   "outputs": [
    {
     "name": "stdout",
     "output_type": "stream",
     "text": [
      "max E-field position: res: 23, non-res: 23\n",
      "Integration error:  6.482078873659702e-08 1.5342476444857311e-07\n",
      "Shunt impedance using Pv: res: 3.316401611125807 M Ohms +- 0.03213011497568966, non-res: 3.7911466723730665 M Ohms +- 0.03672956196390808\n"
     ]
    },
    {
     "data": {
      "image/png": "[encoded data removed]",
      "text/plain": [
       "<Figure size 432x288 with 1 Axes>"
      ]
     },
     "metadata": {
      "needs_background": "light"
     },
     "output_type": "display_data"
    }
   ],
   "source": [
    "from scipy.interpolate import interp1d\n",
    "from scipy.integrate import quadrature\n",
    "\n",
    "# check if max. of electric field is same at both methods\n",
    "print(\"max E-field position: res: {0}, non-res: {1}\".format(np.argmax(E0_r_tt), np.argmax(E0_nr_tt)))\n",
    "\n",
    "# since they are the same, use one of the argmax to get shifted bead position\n",
    "bead_pos_shifted = bead_pos - bead_pos[np.argmax(E0_r_tt)]\n",
    "\n",
    "# interpolate electric field\n",
    "E0_r_tt_func = interp1d(bead_pos_shifted, E0_r_tt, fill_value=\"extrapolate\")\n",
    "E0_nr_tt_func = interp1d(bead_pos_shifted, E0_nr_tt, fill_value=\"extrapolate\")\n",
    "\n",
    "# check if we get our original plot back\n",
    "z_test = np.linspace(np.min(bead_pos_shifted), np.max(bead_pos_shifted), 100)\n",
    "plt.plot(z_test, E0_r_tt_func(z_test), label=\"Interpolated\")\n",
    "plt.errorbar(bead_pos_shifted, E0_r_tt, yerr=E0_r_tt_err, ls=\"\", marker=\"o\", label=\"data\", ms=4.0, capsize=2.0)\n",
    "plt.legend()\n",
    "\n",
    "# evaluate shunt impedance\n",
    "Lcav = 20 * 1e-3  # m  # length of cavity\n",
    "\n",
    "intgral_r_tt, intgral_r_tt_err = quadrature(E0_r_tt_func, -Lcav / 2, Lcav / 2, maxiter=1000, tol=1e-8, rtol=1e-8)\n",
    "intgral_nr_tt, intgral_nr_tt_err = quadrature(E0_nr_tt_func, -Lcav / 2, Lcav / 2, maxiter=1000, tol=1e-8, rtol=1e-8)\n",
    "\n",
    "print(\"Integration error: \", intgral_r_tt_err, intgral_nr_tt_err)\n",
    "\n",
    "Rs_r_tt = intgral_r_tt**2. / Ploss\n",
    "Rs_nr_tt = intgral_nr_tt**2. / Ploss\n",
    "\n",
    "# evaluate error\n",
    "def shunt_impedance_error(Rs, E0, Ploss, res_freq, Ploss_err, res_freq_err, L):\n",
    "    Ploss_term = Rs / Ploss * Ploss_err\n",
    "\n",
    "    E0_sin_z_func = lambda z: E0(z) * np.sin(res_freq * z / c) * z / c\n",
    "    res_freq_term = quadrature(E0_sin_z_func, -L / 2, L / 2, maxiter=1000, tol=1e-8, rtol=1e-8)[0] / Ploss * res_freq_err\n",
    "\n",
    "    return np.sqrt( Ploss_term**2. + res_freq_term**2.)\n",
    "\n",
    "Rs_r_tt_err = shunt_impedance_error(Rs_r_tt, E0_r_tt_func, Ploss, res_freq, Ploss_err, freq_err, Lcav)\n",
    "Rs_nr_tt_err = shunt_impedance_error(Rs_nr_tt, E0_nr_tt_func, Ploss, res_freq, Ploss_err, freq_err, Lcav)\n",
    "\n",
    "print(\"Shunt impedance using Pv: res: {0} M Ohms +- {1}, non-res: {2} M Ohms +- {3}\".format(Rs_r_tt*1e-6, Rs_r_tt_err*1e-6, Rs_nr_tt*1e-6, Rs_nr_tt_err*1e-6))"
   ]
  },
  {
   "cell_type": "code",
   "execution_count": 10,
   "metadata": {},
   "outputs": [
    {
     "name": "stdout",
     "output_type": "stream",
     "text": [
      "max E-field position: res: 23, non-res: 23\n",
      "Integration error:  1.6741157082833524e-07 6.165021062543019e-07\n",
      "Shunt impedance using Pv without time transit factor: res: 3.5090960374535696 M Ohms +- 0.033996986000090074, non-res: 4.011942285565373 M Ohms +- 0.03886868420235991\n"
     ]
    },
    {
     "data": {
      "image/png": "[encoded data removed]",
      "text/plain": [
       "<Figure size 432x288 with 1 Axes>"
      ]
     },
     "metadata": {
      "needs_background": "light"
     },
     "output_type": "display_data"
    }
   ],
   "source": [
    "from scipy.interpolate import interp1d\n",
    "from scipy.integrate import quadrature\n",
    "\n",
    "# check if max. of electric field is same at both methods\n",
    "print(\"max E-field position: res: {0}, non-res: {1}\".format(np.argmax(E0_r), np.argmax(E0_nr)))\n",
    "\n",
    "# since they are the same, use one of the argmax to get shifted bead position\n",
    "bead_pos_shifted = bead_pos - bead_pos[np.argmax(E0_r)]\n",
    "\n",
    "# interpolate electric field\n",
    "E0_r_func = interp1d(bead_pos_shifted, E0_r, fill_value=\"extrapolate\")\n",
    "E0_nr_func = interp1d(bead_pos_shifted, E0_nr, fill_value=\"extrapolate\")\n",
    "\n",
    "# check if we get our original plot back\n",
    "z_test = np.linspace(np.min(bead_pos_shifted), np.max(bead_pos_shifted), 100)\n",
    "plt.plot(z_test, E0_r_func(z_test), label=\"Interpolated\")\n",
    "plt.errorbar(bead_pos_shifted, E0_r, yerr=E0_r_err, ls=\"\", marker=\"o\", label=\"data\", ms=4.0, capsize=2.0)\n",
    "plt.legend()\n",
    "\n",
    "# evaluate shunt impedance\n",
    "Lcav = 20 * 1e-3  # m  # length of cavity\n",
    "\n",
    "intgral_r, intgral_r_err = quadrature(E0_r_func, -Lcav / 2, Lcav / 2, maxiter=1000, tol=1e-8, rtol=1e-8)\n",
    "intgral_nr, intgral_nr_err = quadrature(E0_nr_func, -Lcav / 2, Lcav / 2, maxiter=1000, tol=1e-8, rtol=1e-8)\n",
    "\n",
    "print(\"Integration error: \", intgral_r_err, intgral_nr_err)\n",
    "\n",
    "Rs_r = intgral_r**2. / Ploss\n",
    "Rs_nr = intgral_nr**2. / Ploss\n",
    "\n",
    "# evaluate error\n",
    "def shunt_impedance_error(Rs, E0, Ploss, res_freq, Ploss_err, res_freq_err, L):\n",
    "    Ploss_term = Rs / Ploss * Ploss_err\n",
    "\n",
    "    E0_sin_z_func = lambda z: E0(z) * np.sin(res_freq * z / c) * z / c\n",
    "    res_freq_term = quadrature(E0_sin_z_func, -Lcav / 2, Lcav / 2, maxiter=1000, tol=1e-8, rtol=1e-8)[0] / Ploss * res_freq_err\n",
    "\n",
    "    return np.sqrt( Ploss_term**2. + res_freq_term**2.)\n",
    "\n",
    "Rs_r_err = shunt_impedance_error(Rs_r, E0_r_func, Ploss, res_freq, Ploss_err, freq_err, Lcav)\n",
    "Rs_nr_err = shunt_impedance_error(Rs_nr, E0_nr_func, Ploss, res_freq, Ploss_err, freq_err, Lcav)\n",
    "\n",
    "print(\"Shunt impedance using Pv without time transit factor: res: {0} M Ohms +- {1}, non-res: {2} M Ohms +- {3}\".format(Rs_r*1e-6, Rs_r_err*1e-6, Rs_nr*1e-6, Rs_nr_err*1e-6))"
   ]
  },
  {
   "cell_type": "code",
   "execution_count": 11,
   "metadata": {},
   "outputs": [
    {
     "name": "stdout",
     "output_type": "stream",
     "text": [
      "Shunt impedance not using Pv: res: 3.316401611125807 MOhms +- 0.0, non-res: 3.7911829788617983 MOhms +- 0\n"
     ]
    }
   ],
   "source": [
    "# calculate shunt impedance without using power dissipation formula\n",
    "# to see if its any different as if we use the power disspation formula\n",
    "\n",
    "# since they are the same, use one of the argmax to get shifted bead position\n",
    "bead_pos_shifted = bead_pos - bead_pos[np.argmax(E0_r)]\n",
    "\n",
    "# interpolate electric field\n",
    "E0_r_func = interp1d(bead_pos_shifted, E0_r, fill_value=\"extrapolate\")\n",
    "E0_nr_func = interp1d(bead_pos_shifted, E0_nr, fill_value=\"extrapolate\")\n",
    "\n",
    "E0_r_tt_func = interp1d(bead_pos_shifted, E0_r_tt, fill_value=\"extrapolate\")\n",
    "E0_nr_tt_func = interp1d(bead_pos_shifted, E0_nr_tt, fill_value=\"extrapolate\")\n",
    "\n",
    "# also interpolate delta_omega, delta_rho\n",
    "delta_omega_func = interp1d(bead_pos_shifted, np.sqrt(delta_omega), fill_value=\"extrapolate\")\n",
    "delta_rho_func = interp1d(bead_pos_shifted, np.sqrt(delta_rho), fill_value=\"extrapolate\")\n",
    "\n",
    "# evaluate shunt impedance\n",
    "Lcav = 20 * 1e-3  # m  # length of cavity\n",
    "\n",
    "delay_coeff_r = np.abs(quadrature(E0_r_tt_func, -Lcav/2, Lcav/2,  maxiter=1000, tol=1e-8, rtol=1e-8)[0] / \\\n",
    "                        quadrature(E0_r_func, -Lcav/2, Lcav/2,  maxiter=1000, tol=1e-8, rtol=1e-8)[0])**2.\n",
    "\n",
    "delay_coeff_nr = np.abs(quadrature(E0_nr_tt_func, -Lcav/2, Lcav/2,  maxiter=1000, tol=1e-8, rtol=1e-8)[0] / \\\n",
    "                        quadrature(E0_nr_func, -Lcav/2, Lcav/2,  maxiter=1000, tol=1e-8, rtol=1e-8)[0])**2.\n",
    "\n",
    "delta_omega_int = np.abs(quadrature(delta_omega_func, -Lcav/2, Lcav/2,  maxiter=1000, tol=1e-8, rtol=1e-8)[0])**2.\n",
    "Rs_r_delay = delay_coeff_r * 2 * Q0 / (res_freq**2. * alpha_s) * delta_omega_int\n",
    "\n",
    "delta_rho_int = np.abs(quadrature(delta_rho_func, -Lcav/2, Lcav/2,  maxiter=1000, tol=1e-8, rtol=1e-8)[0])**2.\n",
    "Rs_nr_delay = delay_coeff_nr * (1 + kappa)**2. / (2 * res_freq * kappa * alpha_s) * delta_rho_int\n",
    "\n",
    "print(\"Shunt impedance not using Pv: res: {0} MOhms +- {1}, non-res: {2} MOhms +- {3}\".format(Rs_r_delay * 1e-6, 0 * 1e-6, Rs_nr_delay * 1e-6, 0))"
   ]
  },
  {
   "cell_type": "markdown",
   "metadata": {},
   "source": [
    "## Energy gain of particle in such cavity\n",
    "\n",
    "calculate energy gain of particle passing our cavity depending on input power P\n",
    "\n",
    "- this is obtained by the formula for shunt impedance in an oscillating circuit and the power dissipation formula in relation to coupling coefficient."
   ]
  },
  {
   "cell_type": "code",
   "execution_count": 12,
   "metadata": {},
   "outputs": [
    {
     "name": "stdout",
     "output_type": "stream",
     "text": [
      "Energy gain with input power of P = 1.0 kW: res: 56.51644875923985 keV +- 0.2737736567487937, non-res: 60.43027577912302 keV +- 0.29273278738490727\n",
      "Energy gain with input power of P = 10.0 kW: res: 178.72070334339512 keV +- 0.8657483186793165, non-res: 191.09731109413502 keV +- 0.9257023539461123\n",
      "Energy gain with input power of P = 100.0 kW: res: 565.1644875923986 keV +- 2.737736567487937, non-res: 604.3027577912301 keV +- 2.9273278738490727\n",
      "Energy gain with input power of P = 1000.0 kW: res: 1787.207033433951 keV +- 8.657483186793165, non-res: 1910.9731109413503 keV +- 9.257023539461123\n"
     ]
    }
   ],
   "source": [
    "def energy_gain(Ploss, Rs, kappa):\n",
    "    return np.sqrt(2 * Rs * Ploss / (1 + kappa))\n",
    "\n",
    "def energy_gain_err(Ploss, Rs, kappa, Rs_err, kappa_err):\n",
    "    Rs_term2 = Ploss / (2 * Rs * (1 + kappa)) * Rs_err**2.\n",
    "    kappa_term2 = Rs * Ploss / ( (1 + kappa)**3. * 2) * kappa_err**2.\n",
    "\n",
    "    return np.sqrt(Rs_term2 + kappa_term2)\n",
    "\n",
    "\n",
    "input_powers = [1e3, 10e3, 100e3, 1000e3]\n",
    "\n",
    "for Pv in input_powers:\n",
    "    Egain_r = energy_gain(Pv, Rs_r, kappa)\n",
    "    Egain_nr = energy_gain(Pv, Rs_nr, kappa)\n",
    "\n",
    "    Egain_r_err = energy_gain_err(Pv, Rs_r, kappa, Rs_r_err, kappa_err)\n",
    "    Egain_nr_err = energy_gain_err(Pv, Rs_nr, kappa, Rs_nr_err, kappa_err)\n",
    "\n",
    "    # print results\n",
    "    print(\"Energy gain with input power of P = {0} kW: res: {1} keV +- {2}, non-res: {3} keV +- {4}\".format(Pv*1e-3, Egain_r*1e-3, Egain_r_err*1e-3, Egain_nr*1e-3, Egain_nr_err*1e-3))"
   ]
  },
  {
   "cell_type": "code",
   "execution_count": null,
   "metadata": {},
   "outputs": [],
   "source": []
  }
 ],
 "metadata": {
  "interpreter": {
   "hash": "a36a7aa7dd9d5e1a191ef08db3efa241dd90c17eb065e39bfa16de4e9672f4ea"
  },
  "kernelspec": {
   "display_name": "Python 3.8.5 ('base')",
   "language": "python",
   "name": "python3"
  },
  "language_info": {
   "codemirror_mode": {
    "name": "ipython",
    "version": 3
   },
   "file_extension": ".py",
   "mimetype": "text/x-python",
   "name": "python",
   "nbconvert_exporter": "python",
   "pygments_lexer": "ipython3",
   "version": "3.8.5"
  },
  "orig_nbformat": 4
 },
 "nbformat": 4,
 "nbformat_minor": 2
}
