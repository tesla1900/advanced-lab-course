{
 "cells": [
  {
   "cell_type": "code",
   "execution_count": 1,
   "id": "255a5af1",
   "metadata": {},
   "outputs": [],
   "source": [
    "import numpy as np\n",
    "from scipy.special import jn_zeros, jnp_zeros\n",
    "\n",
    "d = 78.5e-3 #m\n",
    "l = 20e-3 #m\n",
    "c = 3e8  # m\n",
    "\n",
    "def res_freq(m, n, p, mode=\"TM\", Nzeros=5):\n",
    "    \n",
    "    jmn = jn_zeros(m,Nzeros)[n-1] if mode == \"TM\" else jnp_zeros(m,Nzeros)[n-1]\n",
    "    \n",
    "    return np.sqrt((c * jmn / np.pi)**2. + (c * p * d / (2 * l))**2) / d"
   ]
  },
  {
   "cell_type": "code",
   "execution_count": 2,
   "id": "6444a7c3",
   "metadata": {},
   "outputs": [
    {
     "name": "stdout",
     "output_type": "stream",
     "text": [
      "m,n,p: (0, 1, 0), mode:TM, freq:2.9254GHz\n",
      "m,n,p: (1, 1, 0), mode:TM, freq:4.6612GHz\n",
      "m,n,p: (2, 1, 0), mode:TM, freq:6.2473GHz\n",
      "m,n,p: (0, 2, 0), mode:TM, freq:6.7150GHz\n",
      "m,n,p: (1, 1, 1), mode:TE, freq:7.8273GHz\n",
      "m,n,p: (3, 1, 0), mode:TM, freq:7.7613GHz\n",
      "m,n,p: (0, 1, 1), mode:TM, freq:8.0503GHz\n",
      "m,n,p: (2, 1, 1), mode:TE, freq:8.3698GHz\n",
      "m,n,p: (1, 2, 0), mode:TM, freq:8.5343GHz\n",
      "m,n,p: (1, 1, 1), mode:TM, freq:8.8304GHz\n",
      "m,n,p: (0, 1, 1), mode:TE, freq:8.8304GHz\n"
     ]
    }
   ],
   "source": [
    "# ten lowest eigenmodes, listing (m,n,p,mode)\n",
    "modes = [(0,1,0,\"TM\"), (1,1,0,\"TM\"), (2,1,0,\"TM\"), (0,2,0,\"TM\"),(1,1,1,\"TE\"),\n",
    "             (3,1,0,\"TM\"),(0,1,1,\"TM\"),(2,1,1,\"TE\"),(1,2,0,\"TM\"),(1,1,1,\"TM\"),(0,1,1,\"TE\")]\n",
    "\n",
    "freqs = []\n",
    "\n",
    "for mode in modes:\n",
    "    freq = res_freq(*mode)\n",
    "    freqs.append(freq)\n",
    "    \n",
    "    print(\"m,n,p: ({0}, {1}, {2}), mode:{3}, freq:{4:.4f}GHz\".format(*mode, freq*1e-9))"
   ]
  }
 ],
 "metadata": {
  "kernelspec": {
   "display_name": "Python 3 (ipykernel)",
   "language": "python",
   "name": "python3"
  },
  "language_info": {
   "codemirror_mode": {
    "name": "ipython",
    "version": 3
   },
   "file_extension": ".py",
   "mimetype": "text/x-python",
   "name": "python",
   "nbconvert_exporter": "python",
   "pygments_lexer": "ipython3",
   "version": "3.8.11"
  }
 },
 "nbformat": 4,
 "nbformat_minor": 5
}
