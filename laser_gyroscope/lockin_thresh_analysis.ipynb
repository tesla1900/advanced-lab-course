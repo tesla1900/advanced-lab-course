{
 "cells": [
  {
   "cell_type": "markdown",
   "metadata": {},
   "source": [
    "## Lock-in Threshhold\n",
    "\n",
    "Determine the lock-in threshhold of the laser gyroscope"
   ]
  },
  {
   "cell_type": "code",
   "execution_count": 16,
   "metadata": {},
   "outputs": [
    {
     "name": "stdout",
     "output_type": "stream",
     "text": [
      "0.24940106477689603 6.932949003514437e-05\n",
      "Area: 622.0089111184949 +- 0.3458169727040842 cm^2\n",
      "0.04737687404933026 +- 0.0000019\n"
     ]
    }
   ],
   "source": [
    "import numpy as np\n",
    "import matplotlib.pyplot as plt\n",
    "\n",
    "# define laser gyroscope parameters\n",
    "wvlngth = 1064e-9   # 1064 nm, in meters\n",
    "d = 300e-6   # beam diameter, in meters\n",
    "c = 3e8  # speed of light\n",
    "\n",
    "# measured values\n",
    "\n",
    "# obtained from cavity resonance analysis\n",
    "P = 0.9976042591075841\n",
    "P_err = 0.00027731796014057746 \n",
    "\n",
    "# P = 4L\n",
    "L = 0.25 * P\n",
    "L_err = 0.25 * P_err\n",
    "\n",
    "print(L, L_err)\n",
    "\n",
    "# A = L^2\n",
    "A = L**2.\n",
    "A_err = 2 * L * L_err\n",
    "\n",
    "print(\"Area: {0} +- {1} cm^2\".format(A * 1e4, A_err * 1e4))\n",
    "\n",
    "# rs obtained from ring-down\n",
    "\n",
    "# R, R_err should be modified once these values are determined\n",
    "R = 0.9994388579513285 \n",
    "R_err = 4.50180355401498e-08\n",
    "\n",
    "rs = np.sqrt(4*(1 - R))\n",
    "rs_err = (2 / rs) * R_err\n",
    "\n",
    "print(\"{0:} +- {1:.7f}\".format(rs, rs_err))"
   ]
  },
  {
   "cell_type": "code",
   "execution_count": 17,
   "metadata": {},
   "outputs": [
    {
     "name": "stdout",
     "output_type": "stream",
     "text": [
      "Lock-in threshold: 8.577351 +- 0.004781 mrad/s\n"
     ]
    }
   ],
   "source": [
    "# print lock-in threshold\n",
    "Omega_L = c * wvlngth**2. * rs / (32. * np.pi * A * d)\n",
    "\n",
    "# error analysis only with rs and A\n",
    "Omega_L_err = Omega_L * np.sqrt( (rs_err / rs)**2. + (A_err / A)**2.)\n",
    "\n",
    "print(\"Lock-in threshold: {0:f} +- {1:f} mrad/s\".format(Omega_L * 1e3, Omega_L_err * 1e3))"
   ]
  },
  {
   "cell_type": "code",
   "execution_count": null,
   "metadata": {},
   "outputs": [],
   "source": []
  }
 ],
 "metadata": {
  "interpreter": {
   "hash": "a1c4ff104de66f7bf97a6395944b92d7fbf583edab8cddf5d1bb9d2ea66434a9"
  },
  "kernelspec": {
   "display_name": "Python 3.8.5 ('base')",
   "language": "python",
   "name": "python3"
  },
  "language_info": {
   "codemirror_mode": {
    "name": "ipython",
    "version": 3
   },
   "file_extension": ".py",
   "mimetype": "text/x-python",
   "name": "python",
   "nbconvert_exporter": "python",
   "pygments_lexer": "ipython3",
   "version": "3.8.5"
  },
  "orig_nbformat": 4
 },
 "nbformat": 4,
 "nbformat_minor": 2
}
