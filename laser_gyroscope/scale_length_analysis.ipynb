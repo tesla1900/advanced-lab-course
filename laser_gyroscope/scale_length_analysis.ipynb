{
 "cells": [
  {
   "cell_type": "code",
   "execution_count": 91,
   "id": "010e3a6c",
   "metadata": {},
   "outputs": [],
   "source": [
    "import numpy as np\n",
    "import matplotlib.pyplot as plt\n",
    "import scipy as sp\n",
    "import pandas as pd\n",
    "import scipy.io\n",
    "from statistics import mean"
   ]
  },
  {
   "cell_type": "code",
   "execution_count": 92,
   "id": "38ea9261",
   "metadata": {},
   "outputs": [],
   "source": [
    "data = scipy.io.loadmat('laser_gyroscope_data/scale_factor/1v_sagnac_1/1v_sagnac_1_06.mat')\n",
    "freq = scipy.io.loadmat('laser_gyroscope_data/scale_factor/1v_freq_1/1v_freq_1_06.mat')"
   ]
  },
  {
   "cell_type": "code",
   "execution_count": 93,
   "id": "ac15d2c1",
   "metadata": {},
   "outputs": [
    {
     "name": "stdout",
     "output_type": "stream",
     "text": [
      "{'Tstart': array([[0.]]), 'Tinterval': array([[4.99999987e-06]]), 'ExtraSamples': array([[0]], dtype=int32), 'RequestedLength': array([[1000000]], dtype=int32), 'Length': array([[1000000]], dtype=int32), 'A': array([[-0.02222256],\n",
      "       [-0.02666708],\n",
      "       [-0.02222256],\n",
      "       ...,\n",
      "       [-0.09777928],\n",
      "       [-0.09333477],\n",
      "       [-0.08889025]], dtype=float32), 'freq_A_': array([[nan],\n",
      "       [nan],\n",
      "       [nan],\n",
      "       ...,\n",
      "       [nan],\n",
      "       [ 0.],\n",
      "       [ 0.]], dtype=float32), 'Version': array(['6', '.', '1', '4', '.', '6', '1', '.', '6', '2', '1', '9'],\n",
      "      dtype='<U1')} <class 'dict'>\n",
      "{'Tstart': array([[0.]]), 'Tinterval': array([[4.99999987e-06]]), 'ExtraSamples': array([[0]], dtype=int32), 'RequestedLength': array([[1000000]], dtype=int32), 'Length': array([[1000000]], dtype=int32), 'C': array([[3.7712228],\n",
      "       [3.7712228],\n",
      "       [3.7712228],\n",
      "       ...,\n",
      "       [3.7712228],\n",
      "       [3.7712228],\n",
      "       [3.7712228]], dtype=float32), 'freq_C_': array([[nan],\n",
      "       [nan],\n",
      "       [nan],\n",
      "       ...,\n",
      "       [nan],\n",
      "       [ 0.],\n",
      "       [ 0.]], dtype=float32), 'Version': array(['6', '.', '1', '4', '.', '6', '1', '.', '6', '2', '1', '9'],\n",
      "      dtype='<U1')}\n"
     ]
    }
   ],
   "source": [
    "print(data, type(data))\n",
    "print(freq)"
   ]
  },
  {
   "cell_type": "code",
   "execution_count": 104,
   "id": "5b195ba7",
   "metadata": {},
   "outputs": [
    {
     "name": "stdout",
     "output_type": "stream",
     "text": [
      "[[nan]\n",
      " [nan]\n",
      " [nan]\n",
      " ...\n",
      " [nan]\n",
      " [ 0.]\n",
      " [ 0.]]\n",
      "Average:  nan\n"
     ]
    },
    {
     "data": {
      "image/png": "[encoded data removed]",
      "text/plain": [
       "<Figure size 432x288 with 1 Axes>"
      ]
     },
     "metadata": {
      "needs_background": "light"
     },
     "output_type": "display_data"
    }
   ],
   "source": [
    "tstart = np.array(data['Tstart'])\n",
    "tint = np.array(data['Tinterval'])\n",
    "length = np.array(data['Length'])\n",
    "a = np.array(data['A'])\n",
    "freqa = np.array(data['freq_A_'])\n",
    "print(freqa) #check what's wrong with the output here\n",
    "\n",
    "time = np.linspace(tstart, (tstart + tint) * int(length), int(length))\n",
    "# print(time)\n",
    "time = time.reshape(1000000, 1)\n",
    "avg = np.mean(freqa)\n",
    "print(\"Average: \" , avg)\n",
    "x = time\n",
    "y = freqa\n",
    "plt.plot(x, y)\n",
    "plt.show()"
   ]
  },
  {
   "cell_type": "code",
   "execution_count": 87,
   "id": "6639ff4d",
   "metadata": {},
   "outputs": [
    {
     "name": "stdout",
     "output_type": "stream",
     "text": [
      "[[nan]\n",
      " [nan]\n",
      " [nan]\n",
      " ...\n",
      " [nan]\n",
      " [ 0.]\n",
      " [ 0.]]\n"
     ]
    },
    {
     "data": {
      "image/png": "[encoded data removed]",
      "text/plain": [
       "<Figure size 432x288 with 1 Axes>"
      ]
     },
     "metadata": {
      "needs_background": "light"
     },
     "output_type": "display_data"
    }
   ],
   "source": [
    "tstartf = np.array(freq['Tstart'])\n",
    "tintf = np.array(freq['Tinterval'])\n",
    "lengthf = np.array(freq['Length'])\n",
    "c = np.array(freq['C'])\n",
    "freqc = np.array(freq['freq_C_'])\n",
    "print(freqc)\n",
    "\n",
    "timef = np.linspace(tstartf, (tstartf + tintf) * int(lengthf), int(lengthf))\n",
    "# print(time)\n",
    "timef = timef.reshape(1000000, 1)\n",
    "x = timef\n",
    "y = freqc\n",
    "plt.plot(x, y)\n",
    "plt.show()"
   ]
  },
  {
   "cell_type": "code",
   "execution_count": null,
   "id": "00582206",
   "metadata": {},
   "outputs": [],
   "source": []
  }
 ],
 "metadata": {
  "kernelspec": {
   "display_name": "Python 3 (ipykernel)",
   "language": "python",
   "name": "python3"
  },
  "language_info": {
   "codemirror_mode": {
    "name": "ipython",
    "version": 3
   },
   "file_extension": ".py",
   "mimetype": "text/x-python",
   "name": "python",
   "nbconvert_exporter": "python",
   "pygments_lexer": "ipython3",
   "version": "3.9.7"
  }
 },
 "nbformat": 4,
 "nbformat_minor": 5
}
